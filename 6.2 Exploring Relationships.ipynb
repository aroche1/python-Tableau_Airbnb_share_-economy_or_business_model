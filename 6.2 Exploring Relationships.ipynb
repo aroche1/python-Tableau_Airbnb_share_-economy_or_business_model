{
 "cells": [
  {
   "cell_type": "markdown",
   "id": "9e8e6f58",
   "metadata": {},
   "source": []
  },
  {
   "cell_type": "markdown",
   "id": "7bc35a16",
   "metadata": {},
   "source": [
    "# 01 Import Libraries & Data."
   ]
  },
  {
   "cell_type": "code",
   "execution_count": 1,
   "id": "d9de4dad",
   "metadata": {},
   "outputs": [],
   "source": [
    "import pandas as pd\n",
    "import numpy as np\n",
    "import seaborn as sns\n",
    "import matplotlib.pyplot as plt\n",
    "import matplotlib\n",
    "import os"
   ]
  },
  {
   "cell_type": "code",
   "execution_count": 2,
   "id": "3671e8b7",
   "metadata": {},
   "outputs": [],
   "source": [
    "# Define path\n",
    "\n",
    "path = r'/Users/david/Desktop/CF/Data Immersion/Achievement 6 - Advnaced Analytics & Dashboard Design'"
   ]
  },
  {
   "cell_type": "code",
   "execution_count": 3,
   "id": "363d75b8",
   "metadata": {},
   "outputs": [
    {
     "data": {
      "text/plain": [
       "'/Users/david/Desktop/CF/Data Immersion/Achievement 6 - Advnaced Analytics & Dashboard Design'"
      ]
     },
     "execution_count": 3,
     "metadata": {},
     "output_type": "execute_result"
    }
   ],
   "source": [
    "# Verify path\n",
    "\n",
    "path"
   ]
  },
  {
   "cell_type": "code",
   "execution_count": 4,
   "id": "46458ba9",
   "metadata": {},
   "outputs": [],
   "source": [
    "# Import 'bnblist_020922.pkl' data set as 'bnblist' dataframe\n",
    "\n",
    "bnblist = pd.read_pickle(os.path.join(path, '02 Data', 'Prepared Data', '02_Sep_2022', 'bnblist_020922'))"
   ]
  },
  {
   "cell_type": "code",
   "execution_count": 5,
   "id": "49d7d419",
   "metadata": {},
   "outputs": [
    {
     "data": {
      "text/html": [
       "<div>\n",
       "<style scoped>\n",
       "    .dataframe tbody tr th:only-of-type {\n",
       "        vertical-align: middle;\n",
       "    }\n",
       "\n",
       "    .dataframe tbody tr th {\n",
       "        vertical-align: top;\n",
       "    }\n",
       "\n",
       "    .dataframe thead th {\n",
       "        text-align: right;\n",
       "    }\n",
       "</style>\n",
       "<table border=\"1\" class=\"dataframe\">\n",
       "  <thead>\n",
       "    <tr style=\"text-align: right;\">\n",
       "      <th></th>\n",
       "      <th>listing_id</th>\n",
       "      <th>listing_url</th>\n",
       "      <th>host_id</th>\n",
       "      <th>host_url</th>\n",
       "      <th>host_name</th>\n",
       "      <th>host_since</th>\n",
       "      <th>acceptance_rate</th>\n",
       "      <th>superhost</th>\n",
       "      <th>host_listings_count</th>\n",
       "      <th>host_identity_verified</th>\n",
       "      <th>...</th>\n",
       "      <th>price</th>\n",
       "      <th>min_nights</th>\n",
       "      <th>max_nights</th>\n",
       "      <th>has_availability</th>\n",
       "      <th>availability_365</th>\n",
       "      <th>revs_num</th>\n",
       "      <th>first_rev</th>\n",
       "      <th>last_rev</th>\n",
       "      <th>review_scores_rating</th>\n",
       "      <th>reviews_per_month</th>\n",
       "    </tr>\n",
       "  </thead>\n",
       "  <tbody>\n",
       "    <tr>\n",
       "      <th>0</th>\n",
       "      <td>52390579</td>\n",
       "      <td>https://www.airbnb.com/rooms/52390579</td>\n",
       "      <td>424060909</td>\n",
       "      <td>https://www.airbnb.com/users/show/424060909</td>\n",
       "      <td>Maria Carmen Marta</td>\n",
       "      <td>2021-09-21</td>\n",
       "      <td>NaN</td>\n",
       "      <td>f</td>\n",
       "      <td>2</td>\n",
       "      <td>t</td>\n",
       "      <td>...</td>\n",
       "      <td>752</td>\n",
       "      <td>1</td>\n",
       "      <td>365</td>\n",
       "      <td>t</td>\n",
       "      <td>365</td>\n",
       "      <td>0</td>\n",
       "      <td>NaN</td>\n",
       "      <td>NaN</td>\n",
       "      <td>NaN</td>\n",
       "      <td>NaN</td>\n",
       "    </tr>\n",
       "    <tr>\n",
       "      <th>1</th>\n",
       "      <td>35797</td>\n",
       "      <td>https://www.airbnb.com/rooms/35797</td>\n",
       "      <td>153786</td>\n",
       "      <td>https://www.airbnb.com/users/show/153786</td>\n",
       "      <td>Dici</td>\n",
       "      <td>2010-06-28</td>\n",
       "      <td>NaN</td>\n",
       "      <td>f</td>\n",
       "      <td>2</td>\n",
       "      <td>t</td>\n",
       "      <td>...</td>\n",
       "      <td>4056</td>\n",
       "      <td>1</td>\n",
       "      <td>7</td>\n",
       "      <td>t</td>\n",
       "      <td>363</td>\n",
       "      <td>0</td>\n",
       "      <td>NaN</td>\n",
       "      <td>NaN</td>\n",
       "      <td>NaN</td>\n",
       "      <td>NaN</td>\n",
       "    </tr>\n",
       "    <tr>\n",
       "      <th>2</th>\n",
       "      <td>15511977</td>\n",
       "      <td>https://www.airbnb.com/rooms/15511977</td>\n",
       "      <td>93364273</td>\n",
       "      <td>https://www.airbnb.com/users/show/93364273</td>\n",
       "      <td>Abraham</td>\n",
       "      <td>2016-09-03</td>\n",
       "      <td>NaN</td>\n",
       "      <td>f</td>\n",
       "      <td>2</td>\n",
       "      <td>f</td>\n",
       "      <td>...</td>\n",
       "      <td>800</td>\n",
       "      <td>1</td>\n",
       "      <td>1125</td>\n",
       "      <td>t</td>\n",
       "      <td>179</td>\n",
       "      <td>1</td>\n",
       "      <td>2018-03-19</td>\n",
       "      <td>2018-03-19</td>\n",
       "      <td>5.00</td>\n",
       "      <td>0.02</td>\n",
       "    </tr>\n",
       "    <tr>\n",
       "      <th>3</th>\n",
       "      <td>44616</td>\n",
       "      <td>https://www.airbnb.com/rooms/44616</td>\n",
       "      <td>196253</td>\n",
       "      <td>https://www.airbnb.com/users/show/196253</td>\n",
       "      <td>Condesa Haus Bed &amp; Breakfast  CDMX</td>\n",
       "      <td>2010-08-09</td>\n",
       "      <td>66</td>\n",
       "      <td>f</td>\n",
       "      <td>9</td>\n",
       "      <td>t</td>\n",
       "      <td>...</td>\n",
       "      <td>18000</td>\n",
       "      <td>1</td>\n",
       "      <td>365</td>\n",
       "      <td>t</td>\n",
       "      <td>347</td>\n",
       "      <td>56</td>\n",
       "      <td>2011-11-09</td>\n",
       "      <td>2022-06-05</td>\n",
       "      <td>4.59</td>\n",
       "      <td>0.43</td>\n",
       "    </tr>\n",
       "    <tr>\n",
       "      <th>4</th>\n",
       "      <td>34776449</td>\n",
       "      <td>https://www.airbnb.com/rooms/34776449</td>\n",
       "      <td>2954577</td>\n",
       "      <td>https://www.airbnb.com/users/show/2954577</td>\n",
       "      <td>Lazaro Alejandro</td>\n",
       "      <td>2012-07-16</td>\n",
       "      <td>100</td>\n",
       "      <td>t</td>\n",
       "      <td>3</td>\n",
       "      <td>t</td>\n",
       "      <td>...</td>\n",
       "      <td>1779</td>\n",
       "      <td>1</td>\n",
       "      <td>30</td>\n",
       "      <td>t</td>\n",
       "      <td>222</td>\n",
       "      <td>5</td>\n",
       "      <td>2019-07-04</td>\n",
       "      <td>2022-03-14</td>\n",
       "      <td>5.00</td>\n",
       "      <td>0.14</td>\n",
       "    </tr>\n",
       "  </tbody>\n",
       "</table>\n",
       "<p>5 rows × 25 columns</p>\n",
       "</div>"
      ],
      "text/plain": [
       "   listing_id                            listing_url    host_id  \\\n",
       "0    52390579  https://www.airbnb.com/rooms/52390579  424060909   \n",
       "1       35797     https://www.airbnb.com/rooms/35797     153786   \n",
       "2    15511977  https://www.airbnb.com/rooms/15511977   93364273   \n",
       "3       44616     https://www.airbnb.com/rooms/44616     196253   \n",
       "4    34776449  https://www.airbnb.com/rooms/34776449    2954577   \n",
       "\n",
       "                                      host_url  \\\n",
       "0  https://www.airbnb.com/users/show/424060909   \n",
       "1     https://www.airbnb.com/users/show/153786   \n",
       "2   https://www.airbnb.com/users/show/93364273   \n",
       "3     https://www.airbnb.com/users/show/196253   \n",
       "4    https://www.airbnb.com/users/show/2954577   \n",
       "\n",
       "                            host_name  host_since acceptance_rate superhost  \\\n",
       "0                  Maria Carmen Marta  2021-09-21             NaN         f   \n",
       "1                                Dici  2010-06-28             NaN         f   \n",
       "2                             Abraham  2016-09-03             NaN         f   \n",
       "3  Condesa Haus Bed & Breakfast  CDMX  2010-08-09              66         f   \n",
       "4                    Lazaro Alejandro  2012-07-16             100         t   \n",
       "\n",
       "   host_listings_count host_identity_verified  ...  price  min_nights  \\\n",
       "0                    2                      t  ...    752           1   \n",
       "1                    2                      t  ...   4056           1   \n",
       "2                    2                      f  ...    800           1   \n",
       "3                    9                      t  ...  18000           1   \n",
       "4                    3                      t  ...   1779           1   \n",
       "\n",
       "  max_nights  has_availability  availability_365  revs_num   first_rev  \\\n",
       "0        365                 t               365         0         NaN   \n",
       "1          7                 t               363         0         NaN   \n",
       "2       1125                 t               179         1  2018-03-19   \n",
       "3        365                 t               347        56  2011-11-09   \n",
       "4         30                 t               222         5  2019-07-04   \n",
       "\n",
       "     last_rev review_scores_rating  reviews_per_month  \n",
       "0         NaN                  NaN                NaN  \n",
       "1         NaN                  NaN                NaN  \n",
       "2  2018-03-19                 5.00               0.02  \n",
       "3  2022-06-05                 4.59               0.43  \n",
       "4  2022-03-14                 5.00               0.14  \n",
       "\n",
       "[5 rows x 25 columns]"
      ]
     },
     "execution_count": 5,
     "metadata": {},
     "output_type": "execute_result"
    }
   ],
   "source": [
    "# Verify 'bnblist' dataframe\n",
    "\n",
    "bnblist.head(5)"
   ]
  },
  {
   "cell_type": "code",
   "execution_count": 6,
   "id": "864c34af",
   "metadata": {},
   "outputs": [],
   "source": [
    "# Import 'bnbcal_020922.pkl' data set as 'bnbcal' dataframe\n",
    "\n",
    "bnbcal = pd.read_pickle(os.path.join(path, '02 Data', 'Prepared Data', '02_Sep_2022', 'bnbcal_020922'))"
   ]
  },
  {
   "cell_type": "code",
   "execution_count": 7,
   "id": "94da715f",
   "metadata": {},
   "outputs": [
    {
     "data": {
      "text/html": [
       "<div>\n",
       "<style scoped>\n",
       "    .dataframe tbody tr th:only-of-type {\n",
       "        vertical-align: middle;\n",
       "    }\n",
       "\n",
       "    .dataframe tbody tr th {\n",
       "        vertical-align: top;\n",
       "    }\n",
       "\n",
       "    .dataframe thead th {\n",
       "        text-align: right;\n",
       "    }\n",
       "</style>\n",
       "<table border=\"1\" class=\"dataframe\">\n",
       "  <thead>\n",
       "    <tr style=\"text-align: right;\">\n",
       "      <th></th>\n",
       "      <th>listing_id</th>\n",
       "      <th>booking_date</th>\n",
       "    </tr>\n",
       "  </thead>\n",
       "  <tbody>\n",
       "    <tr>\n",
       "      <th>0</th>\n",
       "      <td>52390579</td>\n",
       "      <td>2022-06-21</td>\n",
       "    </tr>\n",
       "    <tr>\n",
       "      <th>1</th>\n",
       "      <td>52390579</td>\n",
       "      <td>2022-06-22</td>\n",
       "    </tr>\n",
       "    <tr>\n",
       "      <th>2</th>\n",
       "      <td>52390579</td>\n",
       "      <td>2022-06-23</td>\n",
       "    </tr>\n",
       "    <tr>\n",
       "      <th>3</th>\n",
       "      <td>52390579</td>\n",
       "      <td>2022-06-24</td>\n",
       "    </tr>\n",
       "    <tr>\n",
       "      <th>4</th>\n",
       "      <td>52390579</td>\n",
       "      <td>2022-06-25</td>\n",
       "    </tr>\n",
       "  </tbody>\n",
       "</table>\n",
       "</div>"
      ],
      "text/plain": [
       "   listing_id booking_date\n",
       "0    52390579   2022-06-21\n",
       "1    52390579   2022-06-22\n",
       "2    52390579   2022-06-23\n",
       "3    52390579   2022-06-24\n",
       "4    52390579   2022-06-25"
      ]
     },
     "execution_count": 7,
     "metadata": {},
     "output_type": "execute_result"
    }
   ],
   "source": [
    "# Verify 'bnbcal' dataframe\n",
    "\n",
    "bnbcal.head(5)"
   ]
  },
  {
   "cell_type": "code",
   "execution_count": 8,
   "id": "7eb24973",
   "metadata": {},
   "outputs": [
    {
     "data": {
      "text/plain": [
       "(7908821, 2)"
      ]
     },
     "execution_count": 8,
     "metadata": {},
     "output_type": "execute_result"
    }
   ],
   "source": [
    "bnbcal.shape"
   ]
  },
  {
   "cell_type": "code",
   "execution_count": 9,
   "id": "26a156e1",
   "metadata": {},
   "outputs": [],
   "source": [
    "# Import 'bnbrevs_020922.pkl' data set as 'bnbrevs' dataframe\n",
    "\n",
    "bnbrevs = pd.read_pickle(os.path.join(path, '02 Data', 'Prepared Data', '02_Sep_2022', 'bnbrevs_020922'))"
   ]
  },
  {
   "cell_type": "code",
   "execution_count": 10,
   "id": "a5a8e48d",
   "metadata": {},
   "outputs": [
    {
     "data": {
      "text/html": [
       "<div>\n",
       "<style scoped>\n",
       "    .dataframe tbody tr th:only-of-type {\n",
       "        vertical-align: middle;\n",
       "    }\n",
       "\n",
       "    .dataframe tbody tr th {\n",
       "        vertical-align: top;\n",
       "    }\n",
       "\n",
       "    .dataframe thead th {\n",
       "        text-align: right;\n",
       "    }\n",
       "</style>\n",
       "<table border=\"1\" class=\"dataframe\">\n",
       "  <thead>\n",
       "    <tr style=\"text-align: right;\">\n",
       "      <th></th>\n",
       "      <th>listing_id</th>\n",
       "      <th>rev_id</th>\n",
       "      <th>rev_date</th>\n",
       "    </tr>\n",
       "  </thead>\n",
       "  <tbody>\n",
       "    <tr>\n",
       "      <th>0</th>\n",
       "      <td>15511977</td>\n",
       "      <td>244826501</td>\n",
       "      <td>2018-03-19</td>\n",
       "    </tr>\n",
       "    <tr>\n",
       "      <th>1</th>\n",
       "      <td>826691</td>\n",
       "      <td>8301723</td>\n",
       "      <td>2013-10-24</td>\n",
       "    </tr>\n",
       "    <tr>\n",
       "      <th>2</th>\n",
       "      <td>826691</td>\n",
       "      <td>8396411</td>\n",
       "      <td>2013-10-28</td>\n",
       "    </tr>\n",
       "    <tr>\n",
       "      <th>3</th>\n",
       "      <td>826691</td>\n",
       "      <td>19868762</td>\n",
       "      <td>2014-09-20</td>\n",
       "    </tr>\n",
       "    <tr>\n",
       "      <th>4</th>\n",
       "      <td>826691</td>\n",
       "      <td>25550391</td>\n",
       "      <td>2015-01-19</td>\n",
       "    </tr>\n",
       "  </tbody>\n",
       "</table>\n",
       "</div>"
      ],
      "text/plain": [
       "   listing_id     rev_id    rev_date\n",
       "0    15511977  244826501  2018-03-19\n",
       "1      826691    8301723  2013-10-24\n",
       "2      826691    8396411  2013-10-28\n",
       "3      826691   19868762  2014-09-20\n",
       "4      826691   25550391  2015-01-19"
      ]
     },
     "execution_count": 10,
     "metadata": {},
     "output_type": "execute_result"
    }
   ],
   "source": [
    "# Verify 'bnbrevs' dataframe\n",
    "\n",
    "bnbrevs.head(5)"
   ]
  },
  {
   "cell_type": "markdown",
   "id": "a0d52ab5",
   "metadata": {},
   "source": [
    "# 02 Merge 'bnblist', 'bnbcal', and 'bnbrevs' & Export 'bnb' as Main Dataframe."
   ]
  },
  {
   "cell_type": "markdown",
   "id": "989b8d72",
   "metadata": {},
   "source": [
    "#### It was decided to make the dataframes merging at this stage to be sure on how to proceed in regards to explore the three dataframes variables relationships."
   ]
  },
  {
   "cell_type": "markdown",
   "id": "b826e4e3",
   "metadata": {},
   "source": [
    "## 02.1 Simplifying 'bnbcal' and 'bnbrevs' dataframes."
   ]
  },
  {
   "cell_type": "markdown",
   "id": "57962d61",
   "metadata": {},
   "source": [
    "#### For the 'bnbcal' and 'bnbrevs' dataframes, the 'listing_id' values will be counted to merge with the main dataframe the number of reviews and bookings made from February 2021 to February 2022."
   ]
  },
  {
   "cell_type": "code",
   "execution_count": 11,
   "id": "083681db",
   "metadata": {},
   "outputs": [
    {
     "data": {
      "text/plain": [
       "listing_id\n",
       "35797                 365\n",
       "44616                 365\n",
       "56074                 365\n",
       "58955                 365\n",
       "61792                 365\n",
       "                     ... \n",
       "653188439086968114    365\n",
       "653529227946128276    365\n",
       "653539035642324610    365\n",
       "653613539292913434    365\n",
       "653653652792522480    365\n",
       "Name: booking_date, Length: 21668, dtype: int64"
      ]
     },
     "execution_count": 11,
     "metadata": {},
     "output_type": "execute_result"
    }
   ],
   "source": [
    "# Count the number of bookings from February 2021 to Februrary 2022\n",
    "\n",
    "bnbcal.groupby('listing_id')['booking_date'].count()"
   ]
  },
  {
   "cell_type": "code",
   "execution_count": 12,
   "id": "a9197026",
   "metadata": {},
   "outputs": [],
   "source": [
    "# Subset the number of bookings by 'listing_id'\n",
    "\n",
    "bnbcal_cnts = bnbcal.groupby('listing_id')['booking_date'].count()"
   ]
  },
  {
   "cell_type": "code",
   "execution_count": 13,
   "id": "a820754c",
   "metadata": {},
   "outputs": [
    {
     "data": {
      "text/plain": [
       "listing_id\n",
       "35797                 365\n",
       "44616                 365\n",
       "56074                 365\n",
       "58955                 365\n",
       "61792                 365\n",
       "                     ... \n",
       "653188439086968114    365\n",
       "653529227946128276    365\n",
       "653539035642324610    365\n",
       "653613539292913434    365\n",
       "653653652792522480    365\n",
       "Name: booking_date, Length: 21668, dtype: int64"
      ]
     },
     "execution_count": 13,
     "metadata": {},
     "output_type": "execute_result"
    }
   ],
   "source": [
    "# Verify 'bnbcal_cnts'\n",
    "\n",
    "bnbcal_cnts"
   ]
  },
  {
   "cell_type": "code",
   "execution_count": 14,
   "id": "c3f7bdad",
   "metadata": {},
   "outputs": [
    {
     "data": {
      "text/plain": [
       "listing_id\n",
       "44616                 56\n",
       "56074                 72\n",
       "58955                 45\n",
       "61792                 58\n",
       "67703                 42\n",
       "                      ..\n",
       "649970454615402606     1\n",
       "650049709671240895     1\n",
       "650195696316882214     1\n",
       "650589742951270180     1\n",
       "650772358845400892     2\n",
       "Name: rev_id, Length: 17679, dtype: int64"
      ]
     },
     "execution_count": 14,
     "metadata": {},
     "output_type": "execute_result"
    }
   ],
   "source": [
    "# Count the number of reviews from February 2021 to February 2022\n",
    "\n",
    "bnbrevs.groupby('listing_id')['rev_id'].count()"
   ]
  },
  {
   "cell_type": "code",
   "execution_count": 15,
   "id": "6a008610",
   "metadata": {},
   "outputs": [],
   "source": [
    "# Subset the number of 'rev_id' by 'listing_id'\n",
    "\n",
    "bnbrevs_cnts = bnbrevs.groupby('listing_id')['rev_id'].count()"
   ]
  },
  {
   "cell_type": "code",
   "execution_count": 16,
   "id": "b491c37b",
   "metadata": {},
   "outputs": [
    {
     "data": {
      "text/plain": [
       "listing_id\n",
       "44616                 56\n",
       "56074                 72\n",
       "58955                 45\n",
       "61792                 58\n",
       "67703                 42\n",
       "                      ..\n",
       "649970454615402606     1\n",
       "650049709671240895     1\n",
       "650195696316882214     1\n",
       "650589742951270180     1\n",
       "650772358845400892     2\n",
       "Name: rev_id, Length: 17679, dtype: int64"
      ]
     },
     "execution_count": 16,
     "metadata": {},
     "output_type": "execute_result"
    }
   ],
   "source": [
    "# Verify 'bnbrevs_cnts'\n",
    "\n",
    "bnbrevs_cnts"
   ]
  },
  {
   "cell_type": "markdown",
   "id": "f3392142",
   "metadata": {},
   "source": [
    "## 02.2 Merging 'bnblist', 'bnbcal_cnts', and 'bnbrevs_cnts' as 'bnb'"
   ]
  },
  {
   "cell_type": "code",
   "execution_count": 17,
   "id": "0d6b8a99",
   "metadata": {},
   "outputs": [
    {
     "data": {
      "text/html": [
       "<div>\n",
       "<style scoped>\n",
       "    .dataframe tbody tr th:only-of-type {\n",
       "        vertical-align: middle;\n",
       "    }\n",
       "\n",
       "    .dataframe tbody tr th {\n",
       "        vertical-align: top;\n",
       "    }\n",
       "\n",
       "    .dataframe thead th {\n",
       "        text-align: right;\n",
       "    }\n",
       "</style>\n",
       "<table border=\"1\" class=\"dataframe\">\n",
       "  <thead>\n",
       "    <tr style=\"text-align: right;\">\n",
       "      <th></th>\n",
       "      <th>listing_id</th>\n",
       "      <th>listing_url</th>\n",
       "      <th>host_id</th>\n",
       "      <th>host_url</th>\n",
       "      <th>host_name</th>\n",
       "      <th>host_since</th>\n",
       "      <th>acceptance_rate</th>\n",
       "      <th>superhost</th>\n",
       "      <th>host_listings_count</th>\n",
       "      <th>host_identity_verified</th>\n",
       "      <th>...</th>\n",
       "      <th>max_nights</th>\n",
       "      <th>has_availability</th>\n",
       "      <th>availability_365</th>\n",
       "      <th>revs_num</th>\n",
       "      <th>first_rev</th>\n",
       "      <th>last_rev</th>\n",
       "      <th>review_scores_rating</th>\n",
       "      <th>reviews_per_month</th>\n",
       "      <th>booking_date</th>\n",
       "      <th>_merge</th>\n",
       "    </tr>\n",
       "  </thead>\n",
       "  <tbody>\n",
       "    <tr>\n",
       "      <th>0</th>\n",
       "      <td>52390579</td>\n",
       "      <td>https://www.airbnb.com/rooms/52390579</td>\n",
       "      <td>424060909</td>\n",
       "      <td>https://www.airbnb.com/users/show/424060909</td>\n",
       "      <td>Maria Carmen Marta</td>\n",
       "      <td>2021-09-21</td>\n",
       "      <td>NaN</td>\n",
       "      <td>f</td>\n",
       "      <td>2</td>\n",
       "      <td>t</td>\n",
       "      <td>...</td>\n",
       "      <td>365</td>\n",
       "      <td>t</td>\n",
       "      <td>365</td>\n",
       "      <td>0</td>\n",
       "      <td>NaN</td>\n",
       "      <td>NaN</td>\n",
       "      <td>NaN</td>\n",
       "      <td>NaN</td>\n",
       "      <td>365</td>\n",
       "      <td>both</td>\n",
       "    </tr>\n",
       "    <tr>\n",
       "      <th>1</th>\n",
       "      <td>35797</td>\n",
       "      <td>https://www.airbnb.com/rooms/35797</td>\n",
       "      <td>153786</td>\n",
       "      <td>https://www.airbnb.com/users/show/153786</td>\n",
       "      <td>Dici</td>\n",
       "      <td>2010-06-28</td>\n",
       "      <td>NaN</td>\n",
       "      <td>f</td>\n",
       "      <td>2</td>\n",
       "      <td>t</td>\n",
       "      <td>...</td>\n",
       "      <td>7</td>\n",
       "      <td>t</td>\n",
       "      <td>363</td>\n",
       "      <td>0</td>\n",
       "      <td>NaN</td>\n",
       "      <td>NaN</td>\n",
       "      <td>NaN</td>\n",
       "      <td>NaN</td>\n",
       "      <td>365</td>\n",
       "      <td>both</td>\n",
       "    </tr>\n",
       "    <tr>\n",
       "      <th>2</th>\n",
       "      <td>15511977</td>\n",
       "      <td>https://www.airbnb.com/rooms/15511977</td>\n",
       "      <td>93364273</td>\n",
       "      <td>https://www.airbnb.com/users/show/93364273</td>\n",
       "      <td>Abraham</td>\n",
       "      <td>2016-09-03</td>\n",
       "      <td>NaN</td>\n",
       "      <td>f</td>\n",
       "      <td>2</td>\n",
       "      <td>f</td>\n",
       "      <td>...</td>\n",
       "      <td>1125</td>\n",
       "      <td>t</td>\n",
       "      <td>179</td>\n",
       "      <td>1</td>\n",
       "      <td>2018-03-19</td>\n",
       "      <td>2018-03-19</td>\n",
       "      <td>5.00</td>\n",
       "      <td>0.02</td>\n",
       "      <td>365</td>\n",
       "      <td>both</td>\n",
       "    </tr>\n",
       "    <tr>\n",
       "      <th>3</th>\n",
       "      <td>44616</td>\n",
       "      <td>https://www.airbnb.com/rooms/44616</td>\n",
       "      <td>196253</td>\n",
       "      <td>https://www.airbnb.com/users/show/196253</td>\n",
       "      <td>Condesa Haus Bed &amp; Breakfast  CDMX</td>\n",
       "      <td>2010-08-09</td>\n",
       "      <td>66</td>\n",
       "      <td>f</td>\n",
       "      <td>9</td>\n",
       "      <td>t</td>\n",
       "      <td>...</td>\n",
       "      <td>365</td>\n",
       "      <td>t</td>\n",
       "      <td>347</td>\n",
       "      <td>56</td>\n",
       "      <td>2011-11-09</td>\n",
       "      <td>2022-06-05</td>\n",
       "      <td>4.59</td>\n",
       "      <td>0.43</td>\n",
       "      <td>365</td>\n",
       "      <td>both</td>\n",
       "    </tr>\n",
       "    <tr>\n",
       "      <th>4</th>\n",
       "      <td>34776449</td>\n",
       "      <td>https://www.airbnb.com/rooms/34776449</td>\n",
       "      <td>2954577</td>\n",
       "      <td>https://www.airbnb.com/users/show/2954577</td>\n",
       "      <td>Lazaro Alejandro</td>\n",
       "      <td>2012-07-16</td>\n",
       "      <td>100</td>\n",
       "      <td>t</td>\n",
       "      <td>3</td>\n",
       "      <td>t</td>\n",
       "      <td>...</td>\n",
       "      <td>30</td>\n",
       "      <td>t</td>\n",
       "      <td>222</td>\n",
       "      <td>5</td>\n",
       "      <td>2019-07-04</td>\n",
       "      <td>2022-03-14</td>\n",
       "      <td>5.00</td>\n",
       "      <td>0.14</td>\n",
       "      <td>365</td>\n",
       "      <td>both</td>\n",
       "    </tr>\n",
       "    <tr>\n",
       "      <th>...</th>\n",
       "      <td>...</td>\n",
       "      <td>...</td>\n",
       "      <td>...</td>\n",
       "      <td>...</td>\n",
       "      <td>...</td>\n",
       "      <td>...</td>\n",
       "      <td>...</td>\n",
       "      <td>...</td>\n",
       "      <td>...</td>\n",
       "      <td>...</td>\n",
       "      <td>...</td>\n",
       "      <td>...</td>\n",
       "      <td>...</td>\n",
       "      <td>...</td>\n",
       "      <td>...</td>\n",
       "      <td>...</td>\n",
       "      <td>...</td>\n",
       "      <td>...</td>\n",
       "      <td>...</td>\n",
       "      <td>...</td>\n",
       "      <td>...</td>\n",
       "    </tr>\n",
       "    <tr>\n",
       "      <th>21663</th>\n",
       "      <td>618034488468131637</td>\n",
       "      <td>https://www.airbnb.com/rooms/618034488468131637</td>\n",
       "      <td>442065952</td>\n",
       "      <td>https://www.airbnb.com/users/show/442065952</td>\n",
       "      <td>Ricardo</td>\n",
       "      <td>2022-01-25</td>\n",
       "      <td>100</td>\n",
       "      <td>f</td>\n",
       "      <td>79</td>\n",
       "      <td>t</td>\n",
       "      <td>...</td>\n",
       "      <td>1125</td>\n",
       "      <td>t</td>\n",
       "      <td>355</td>\n",
       "      <td>3</td>\n",
       "      <td>2022-05-20</td>\n",
       "      <td>2022-05-29</td>\n",
       "      <td>3.00</td>\n",
       "      <td>2.73</td>\n",
       "      <td>365</td>\n",
       "      <td>both</td>\n",
       "    </tr>\n",
       "    <tr>\n",
       "      <th>21664</th>\n",
       "      <td>22107097</td>\n",
       "      <td>https://www.airbnb.com/rooms/22107097</td>\n",
       "      <td>387195495</td>\n",
       "      <td>https://www.airbnb.com/users/show/387195495</td>\n",
       "      <td>Daniela</td>\n",
       "      <td>2021-02-03</td>\n",
       "      <td>100</td>\n",
       "      <td>f</td>\n",
       "      <td>22</td>\n",
       "      <td>t</td>\n",
       "      <td>...</td>\n",
       "      <td>1125</td>\n",
       "      <td>t</td>\n",
       "      <td>314</td>\n",
       "      <td>107</td>\n",
       "      <td>2018-01-04</td>\n",
       "      <td>2022-02-07</td>\n",
       "      <td>4.82</td>\n",
       "      <td>1.97</td>\n",
       "      <td>365</td>\n",
       "      <td>both</td>\n",
       "    </tr>\n",
       "    <tr>\n",
       "      <th>21665</th>\n",
       "      <td>40617809</td>\n",
       "      <td>https://www.airbnb.com/rooms/40617809</td>\n",
       "      <td>96471106</td>\n",
       "      <td>https://www.airbnb.com/users/show/96471106</td>\n",
       "      <td>Mary Carmen</td>\n",
       "      <td>2016-09-23</td>\n",
       "      <td>NaN</td>\n",
       "      <td>f</td>\n",
       "      <td>3</td>\n",
       "      <td>t</td>\n",
       "      <td>...</td>\n",
       "      <td>365</td>\n",
       "      <td>t</td>\n",
       "      <td>140</td>\n",
       "      <td>5</td>\n",
       "      <td>2019-12-13</td>\n",
       "      <td>2019-12-31</td>\n",
       "      <td>4.60</td>\n",
       "      <td>0.16</td>\n",
       "      <td>365</td>\n",
       "      <td>both</td>\n",
       "    </tr>\n",
       "    <tr>\n",
       "      <th>21666</th>\n",
       "      <td>569519288654139909</td>\n",
       "      <td>https://www.airbnb.com/rooms/569519288654139909</td>\n",
       "      <td>30446640</td>\n",
       "      <td>https://www.airbnb.com/users/show/30446640</td>\n",
       "      <td>Ericka</td>\n",
       "      <td>2015-04-01</td>\n",
       "      <td>100</td>\n",
       "      <td>f</td>\n",
       "      <td>0</td>\n",
       "      <td>t</td>\n",
       "      <td>...</td>\n",
       "      <td>365</td>\n",
       "      <td>t</td>\n",
       "      <td>354</td>\n",
       "      <td>0</td>\n",
       "      <td>NaN</td>\n",
       "      <td>NaN</td>\n",
       "      <td>NaN</td>\n",
       "      <td>NaN</td>\n",
       "      <td>365</td>\n",
       "      <td>both</td>\n",
       "    </tr>\n",
       "    <tr>\n",
       "      <th>21667</th>\n",
       "      <td>37175605</td>\n",
       "      <td>https://www.airbnb.com/rooms/37175605</td>\n",
       "      <td>51907431</td>\n",
       "      <td>https://www.airbnb.com/users/show/51907431</td>\n",
       "      <td>Cecilia</td>\n",
       "      <td>2015-12-21</td>\n",
       "      <td>100</td>\n",
       "      <td>t</td>\n",
       "      <td>7</td>\n",
       "      <td>t</td>\n",
       "      <td>...</td>\n",
       "      <td>40</td>\n",
       "      <td>t</td>\n",
       "      <td>10</td>\n",
       "      <td>58</td>\n",
       "      <td>2019-08-11</td>\n",
       "      <td>2022-06-13</td>\n",
       "      <td>4.81</td>\n",
       "      <td>1.66</td>\n",
       "      <td>365</td>\n",
       "      <td>both</td>\n",
       "    </tr>\n",
       "  </tbody>\n",
       "</table>\n",
       "<p>21668 rows × 27 columns</p>\n",
       "</div>"
      ],
      "text/plain": [
       "               listing_id                                      listing_url  \\\n",
       "0                52390579            https://www.airbnb.com/rooms/52390579   \n",
       "1                   35797               https://www.airbnb.com/rooms/35797   \n",
       "2                15511977            https://www.airbnb.com/rooms/15511977   \n",
       "3                   44616               https://www.airbnb.com/rooms/44616   \n",
       "4                34776449            https://www.airbnb.com/rooms/34776449   \n",
       "...                   ...                                              ...   \n",
       "21663  618034488468131637  https://www.airbnb.com/rooms/618034488468131637   \n",
       "21664            22107097            https://www.airbnb.com/rooms/22107097   \n",
       "21665            40617809            https://www.airbnb.com/rooms/40617809   \n",
       "21666  569519288654139909  https://www.airbnb.com/rooms/569519288654139909   \n",
       "21667            37175605            https://www.airbnb.com/rooms/37175605   \n",
       "\n",
       "         host_id                                     host_url  \\\n",
       "0      424060909  https://www.airbnb.com/users/show/424060909   \n",
       "1         153786     https://www.airbnb.com/users/show/153786   \n",
       "2       93364273   https://www.airbnb.com/users/show/93364273   \n",
       "3         196253     https://www.airbnb.com/users/show/196253   \n",
       "4        2954577    https://www.airbnb.com/users/show/2954577   \n",
       "...          ...                                          ...   \n",
       "21663  442065952  https://www.airbnb.com/users/show/442065952   \n",
       "21664  387195495  https://www.airbnb.com/users/show/387195495   \n",
       "21665   96471106   https://www.airbnb.com/users/show/96471106   \n",
       "21666   30446640   https://www.airbnb.com/users/show/30446640   \n",
       "21667   51907431   https://www.airbnb.com/users/show/51907431   \n",
       "\n",
       "                                host_name  host_since acceptance_rate  \\\n",
       "0                      Maria Carmen Marta  2021-09-21             NaN   \n",
       "1                                    Dici  2010-06-28             NaN   \n",
       "2                                 Abraham  2016-09-03             NaN   \n",
       "3      Condesa Haus Bed & Breakfast  CDMX  2010-08-09              66   \n",
       "4                        Lazaro Alejandro  2012-07-16             100   \n",
       "...                                   ...         ...             ...   \n",
       "21663                             Ricardo  2022-01-25             100   \n",
       "21664                             Daniela  2021-02-03             100   \n",
       "21665                         Mary Carmen  2016-09-23             NaN   \n",
       "21666                              Ericka  2015-04-01             100   \n",
       "21667                             Cecilia  2015-12-21             100   \n",
       "\n",
       "      superhost  host_listings_count host_identity_verified  ...  max_nights  \\\n",
       "0             f                    2                      t  ...         365   \n",
       "1             f                    2                      t  ...           7   \n",
       "2             f                    2                      f  ...        1125   \n",
       "3             f                    9                      t  ...         365   \n",
       "4             t                    3                      t  ...          30   \n",
       "...         ...                  ...                    ...  ...         ...   \n",
       "21663         f                   79                      t  ...        1125   \n",
       "21664         f                   22                      t  ...        1125   \n",
       "21665         f                    3                      t  ...         365   \n",
       "21666         f                    0                      t  ...         365   \n",
       "21667         t                    7                      t  ...          40   \n",
       "\n",
       "       has_availability availability_365  revs_num   first_rev    last_rev  \\\n",
       "0                     t              365         0         NaN         NaN   \n",
       "1                     t              363         0         NaN         NaN   \n",
       "2                     t              179         1  2018-03-19  2018-03-19   \n",
       "3                     t              347        56  2011-11-09  2022-06-05   \n",
       "4                     t              222         5  2019-07-04  2022-03-14   \n",
       "...                 ...              ...       ...         ...         ...   \n",
       "21663                 t              355         3  2022-05-20  2022-05-29   \n",
       "21664                 t              314       107  2018-01-04  2022-02-07   \n",
       "21665                 t              140         5  2019-12-13  2019-12-31   \n",
       "21666                 t              354         0         NaN         NaN   \n",
       "21667                 t               10        58  2019-08-11  2022-06-13   \n",
       "\n",
       "       review_scores_rating  reviews_per_month booking_date  _merge  \n",
       "0                       NaN                NaN          365    both  \n",
       "1                       NaN                NaN          365    both  \n",
       "2                      5.00               0.02          365    both  \n",
       "3                      4.59               0.43          365    both  \n",
       "4                      5.00               0.14          365    both  \n",
       "...                     ...                ...          ...     ...  \n",
       "21663                  3.00               2.73          365    both  \n",
       "21664                  4.82               1.97          365    both  \n",
       "21665                  4.60               0.16          365    both  \n",
       "21666                   NaN                NaN          365    both  \n",
       "21667                  4.81               1.66          365    both  \n",
       "\n",
       "[21668 rows x 27 columns]"
      ]
     },
     "execution_count": 17,
     "metadata": {},
     "output_type": "execute_result"
    }
   ],
   "source": [
    "# Merging 'bnblist' and 'bnbcal_cnts' dataframes into 'bnb_list_cal' dataframe\n",
    "\n",
    "bnblist.merge(bnbcal_cnts, on = 'listing_id', indicator = True)"
   ]
  },
  {
   "cell_type": "code",
   "execution_count": 18,
   "id": "db80e1b9",
   "metadata": {},
   "outputs": [],
   "source": [
    "# Apply merge \n",
    "\n",
    "bnb_list_cal = bnblist.merge(bnbcal_cnts, on = 'listing_id', indicator = True)"
   ]
  },
  {
   "cell_type": "code",
   "execution_count": 19,
   "id": "878aaa83",
   "metadata": {},
   "outputs": [],
   "source": [
    "# Change column name from 'booking_date' to 'bookings_num'\n",
    "\n",
    "bnb_list_cal.rename(columns = {'booking_date' : 'bookings_num'}, inplace = True)"
   ]
  },
  {
   "cell_type": "code",
   "execution_count": 20,
   "id": "27f48726",
   "metadata": {},
   "outputs": [
    {
     "data": {
      "text/plain": [
       "Index(['listing_id', 'listing_url', 'host_id', 'host_url', 'host_name',\n",
       "       'host_since', 'acceptance_rate', 'superhost', 'host_listings_count',\n",
       "       'host_identity_verified', 'latitude', 'longitude', 'room_type',\n",
       "       'accommodates', 'bedrooms', 'price', 'min_nights', 'max_nights',\n",
       "       'has_availability', 'availability_365', 'revs_num', 'first_rev',\n",
       "       'last_rev', 'review_scores_rating', 'reviews_per_month', 'bookings_num',\n",
       "       '_merge'],\n",
       "      dtype='object')"
      ]
     },
     "execution_count": 20,
     "metadata": {},
     "output_type": "execute_result"
    }
   ],
   "source": [
    "# Verify column name change\n",
    "\n",
    "bnb_list_cal.columns"
   ]
  },
  {
   "cell_type": "code",
   "execution_count": 21,
   "id": "363ecf55",
   "metadata": {},
   "outputs": [
    {
     "data": {
      "text/html": [
       "<div>\n",
       "<style scoped>\n",
       "    .dataframe tbody tr th:only-of-type {\n",
       "        vertical-align: middle;\n",
       "    }\n",
       "\n",
       "    .dataframe tbody tr th {\n",
       "        vertical-align: top;\n",
       "    }\n",
       "\n",
       "    .dataframe thead th {\n",
       "        text-align: right;\n",
       "    }\n",
       "</style>\n",
       "<table border=\"1\" class=\"dataframe\">\n",
       "  <thead>\n",
       "    <tr style=\"text-align: right;\">\n",
       "      <th></th>\n",
       "      <th>listing_id</th>\n",
       "      <th>listing_url</th>\n",
       "      <th>host_id</th>\n",
       "      <th>host_url</th>\n",
       "      <th>host_name</th>\n",
       "      <th>host_since</th>\n",
       "      <th>acceptance_rate</th>\n",
       "      <th>superhost</th>\n",
       "      <th>host_listings_count</th>\n",
       "      <th>host_identity_verified</th>\n",
       "      <th>...</th>\n",
       "      <th>min_nights</th>\n",
       "      <th>max_nights</th>\n",
       "      <th>has_availability</th>\n",
       "      <th>availability_365</th>\n",
       "      <th>revs_num</th>\n",
       "      <th>first_rev</th>\n",
       "      <th>last_rev</th>\n",
       "      <th>review_scores_rating</th>\n",
       "      <th>reviews_per_month</th>\n",
       "      <th>bookings_num</th>\n",
       "    </tr>\n",
       "  </thead>\n",
       "  <tbody>\n",
       "    <tr>\n",
       "      <th>0</th>\n",
       "      <td>52390579</td>\n",
       "      <td>https://www.airbnb.com/rooms/52390579</td>\n",
       "      <td>424060909</td>\n",
       "      <td>https://www.airbnb.com/users/show/424060909</td>\n",
       "      <td>Maria Carmen Marta</td>\n",
       "      <td>2021-09-21</td>\n",
       "      <td>NaN</td>\n",
       "      <td>f</td>\n",
       "      <td>2</td>\n",
       "      <td>t</td>\n",
       "      <td>...</td>\n",
       "      <td>1</td>\n",
       "      <td>365</td>\n",
       "      <td>t</td>\n",
       "      <td>365</td>\n",
       "      <td>0</td>\n",
       "      <td>NaN</td>\n",
       "      <td>NaN</td>\n",
       "      <td>NaN</td>\n",
       "      <td>NaN</td>\n",
       "      <td>365</td>\n",
       "    </tr>\n",
       "    <tr>\n",
       "      <th>1</th>\n",
       "      <td>35797</td>\n",
       "      <td>https://www.airbnb.com/rooms/35797</td>\n",
       "      <td>153786</td>\n",
       "      <td>https://www.airbnb.com/users/show/153786</td>\n",
       "      <td>Dici</td>\n",
       "      <td>2010-06-28</td>\n",
       "      <td>NaN</td>\n",
       "      <td>f</td>\n",
       "      <td>2</td>\n",
       "      <td>t</td>\n",
       "      <td>...</td>\n",
       "      <td>1</td>\n",
       "      <td>7</td>\n",
       "      <td>t</td>\n",
       "      <td>363</td>\n",
       "      <td>0</td>\n",
       "      <td>NaN</td>\n",
       "      <td>NaN</td>\n",
       "      <td>NaN</td>\n",
       "      <td>NaN</td>\n",
       "      <td>365</td>\n",
       "    </tr>\n",
       "    <tr>\n",
       "      <th>2</th>\n",
       "      <td>15511977</td>\n",
       "      <td>https://www.airbnb.com/rooms/15511977</td>\n",
       "      <td>93364273</td>\n",
       "      <td>https://www.airbnb.com/users/show/93364273</td>\n",
       "      <td>Abraham</td>\n",
       "      <td>2016-09-03</td>\n",
       "      <td>NaN</td>\n",
       "      <td>f</td>\n",
       "      <td>2</td>\n",
       "      <td>f</td>\n",
       "      <td>...</td>\n",
       "      <td>1</td>\n",
       "      <td>1125</td>\n",
       "      <td>t</td>\n",
       "      <td>179</td>\n",
       "      <td>1</td>\n",
       "      <td>2018-03-19</td>\n",
       "      <td>2018-03-19</td>\n",
       "      <td>5.00</td>\n",
       "      <td>0.02</td>\n",
       "      <td>365</td>\n",
       "    </tr>\n",
       "    <tr>\n",
       "      <th>3</th>\n",
       "      <td>44616</td>\n",
       "      <td>https://www.airbnb.com/rooms/44616</td>\n",
       "      <td>196253</td>\n",
       "      <td>https://www.airbnb.com/users/show/196253</td>\n",
       "      <td>Condesa Haus Bed &amp; Breakfast  CDMX</td>\n",
       "      <td>2010-08-09</td>\n",
       "      <td>66</td>\n",
       "      <td>f</td>\n",
       "      <td>9</td>\n",
       "      <td>t</td>\n",
       "      <td>...</td>\n",
       "      <td>1</td>\n",
       "      <td>365</td>\n",
       "      <td>t</td>\n",
       "      <td>347</td>\n",
       "      <td>56</td>\n",
       "      <td>2011-11-09</td>\n",
       "      <td>2022-06-05</td>\n",
       "      <td>4.59</td>\n",
       "      <td>0.43</td>\n",
       "      <td>365</td>\n",
       "    </tr>\n",
       "    <tr>\n",
       "      <th>4</th>\n",
       "      <td>34776449</td>\n",
       "      <td>https://www.airbnb.com/rooms/34776449</td>\n",
       "      <td>2954577</td>\n",
       "      <td>https://www.airbnb.com/users/show/2954577</td>\n",
       "      <td>Lazaro Alejandro</td>\n",
       "      <td>2012-07-16</td>\n",
       "      <td>100</td>\n",
       "      <td>t</td>\n",
       "      <td>3</td>\n",
       "      <td>t</td>\n",
       "      <td>...</td>\n",
       "      <td>1</td>\n",
       "      <td>30</td>\n",
       "      <td>t</td>\n",
       "      <td>222</td>\n",
       "      <td>5</td>\n",
       "      <td>2019-07-04</td>\n",
       "      <td>2022-03-14</td>\n",
       "      <td>5.00</td>\n",
       "      <td>0.14</td>\n",
       "      <td>365</td>\n",
       "    </tr>\n",
       "    <tr>\n",
       "      <th>...</th>\n",
       "      <td>...</td>\n",
       "      <td>...</td>\n",
       "      <td>...</td>\n",
       "      <td>...</td>\n",
       "      <td>...</td>\n",
       "      <td>...</td>\n",
       "      <td>...</td>\n",
       "      <td>...</td>\n",
       "      <td>...</td>\n",
       "      <td>...</td>\n",
       "      <td>...</td>\n",
       "      <td>...</td>\n",
       "      <td>...</td>\n",
       "      <td>...</td>\n",
       "      <td>...</td>\n",
       "      <td>...</td>\n",
       "      <td>...</td>\n",
       "      <td>...</td>\n",
       "      <td>...</td>\n",
       "      <td>...</td>\n",
       "      <td>...</td>\n",
       "    </tr>\n",
       "    <tr>\n",
       "      <th>21663</th>\n",
       "      <td>618034488468131637</td>\n",
       "      <td>https://www.airbnb.com/rooms/618034488468131637</td>\n",
       "      <td>442065952</td>\n",
       "      <td>https://www.airbnb.com/users/show/442065952</td>\n",
       "      <td>Ricardo</td>\n",
       "      <td>2022-01-25</td>\n",
       "      <td>100</td>\n",
       "      <td>f</td>\n",
       "      <td>79</td>\n",
       "      <td>t</td>\n",
       "      <td>...</td>\n",
       "      <td>1</td>\n",
       "      <td>1125</td>\n",
       "      <td>t</td>\n",
       "      <td>355</td>\n",
       "      <td>3</td>\n",
       "      <td>2022-05-20</td>\n",
       "      <td>2022-05-29</td>\n",
       "      <td>3.00</td>\n",
       "      <td>2.73</td>\n",
       "      <td>365</td>\n",
       "    </tr>\n",
       "    <tr>\n",
       "      <th>21664</th>\n",
       "      <td>22107097</td>\n",
       "      <td>https://www.airbnb.com/rooms/22107097</td>\n",
       "      <td>387195495</td>\n",
       "      <td>https://www.airbnb.com/users/show/387195495</td>\n",
       "      <td>Daniela</td>\n",
       "      <td>2021-02-03</td>\n",
       "      <td>100</td>\n",
       "      <td>f</td>\n",
       "      <td>22</td>\n",
       "      <td>t</td>\n",
       "      <td>...</td>\n",
       "      <td>2</td>\n",
       "      <td>1125</td>\n",
       "      <td>t</td>\n",
       "      <td>314</td>\n",
       "      <td>107</td>\n",
       "      <td>2018-01-04</td>\n",
       "      <td>2022-02-07</td>\n",
       "      <td>4.82</td>\n",
       "      <td>1.97</td>\n",
       "      <td>365</td>\n",
       "    </tr>\n",
       "    <tr>\n",
       "      <th>21665</th>\n",
       "      <td>40617809</td>\n",
       "      <td>https://www.airbnb.com/rooms/40617809</td>\n",
       "      <td>96471106</td>\n",
       "      <td>https://www.airbnb.com/users/show/96471106</td>\n",
       "      <td>Mary Carmen</td>\n",
       "      <td>2016-09-23</td>\n",
       "      <td>NaN</td>\n",
       "      <td>f</td>\n",
       "      <td>3</td>\n",
       "      <td>t</td>\n",
       "      <td>...</td>\n",
       "      <td>1</td>\n",
       "      <td>365</td>\n",
       "      <td>t</td>\n",
       "      <td>140</td>\n",
       "      <td>5</td>\n",
       "      <td>2019-12-13</td>\n",
       "      <td>2019-12-31</td>\n",
       "      <td>4.60</td>\n",
       "      <td>0.16</td>\n",
       "      <td>365</td>\n",
       "    </tr>\n",
       "    <tr>\n",
       "      <th>21666</th>\n",
       "      <td>569519288654139909</td>\n",
       "      <td>https://www.airbnb.com/rooms/569519288654139909</td>\n",
       "      <td>30446640</td>\n",
       "      <td>https://www.airbnb.com/users/show/30446640</td>\n",
       "      <td>Ericka</td>\n",
       "      <td>2015-04-01</td>\n",
       "      <td>100</td>\n",
       "      <td>f</td>\n",
       "      <td>0</td>\n",
       "      <td>t</td>\n",
       "      <td>...</td>\n",
       "      <td>3</td>\n",
       "      <td>365</td>\n",
       "      <td>t</td>\n",
       "      <td>354</td>\n",
       "      <td>0</td>\n",
       "      <td>NaN</td>\n",
       "      <td>NaN</td>\n",
       "      <td>NaN</td>\n",
       "      <td>NaN</td>\n",
       "      <td>365</td>\n",
       "    </tr>\n",
       "    <tr>\n",
       "      <th>21667</th>\n",
       "      <td>37175605</td>\n",
       "      <td>https://www.airbnb.com/rooms/37175605</td>\n",
       "      <td>51907431</td>\n",
       "      <td>https://www.airbnb.com/users/show/51907431</td>\n",
       "      <td>Cecilia</td>\n",
       "      <td>2015-12-21</td>\n",
       "      <td>100</td>\n",
       "      <td>t</td>\n",
       "      <td>7</td>\n",
       "      <td>t</td>\n",
       "      <td>...</td>\n",
       "      <td>2</td>\n",
       "      <td>40</td>\n",
       "      <td>t</td>\n",
       "      <td>10</td>\n",
       "      <td>58</td>\n",
       "      <td>2019-08-11</td>\n",
       "      <td>2022-06-13</td>\n",
       "      <td>4.81</td>\n",
       "      <td>1.66</td>\n",
       "      <td>365</td>\n",
       "    </tr>\n",
       "  </tbody>\n",
       "</table>\n",
       "<p>21668 rows × 26 columns</p>\n",
       "</div>"
      ],
      "text/plain": [
       "               listing_id                                      listing_url  \\\n",
       "0                52390579            https://www.airbnb.com/rooms/52390579   \n",
       "1                   35797               https://www.airbnb.com/rooms/35797   \n",
       "2                15511977            https://www.airbnb.com/rooms/15511977   \n",
       "3                   44616               https://www.airbnb.com/rooms/44616   \n",
       "4                34776449            https://www.airbnb.com/rooms/34776449   \n",
       "...                   ...                                              ...   \n",
       "21663  618034488468131637  https://www.airbnb.com/rooms/618034488468131637   \n",
       "21664            22107097            https://www.airbnb.com/rooms/22107097   \n",
       "21665            40617809            https://www.airbnb.com/rooms/40617809   \n",
       "21666  569519288654139909  https://www.airbnb.com/rooms/569519288654139909   \n",
       "21667            37175605            https://www.airbnb.com/rooms/37175605   \n",
       "\n",
       "         host_id                                     host_url  \\\n",
       "0      424060909  https://www.airbnb.com/users/show/424060909   \n",
       "1         153786     https://www.airbnb.com/users/show/153786   \n",
       "2       93364273   https://www.airbnb.com/users/show/93364273   \n",
       "3         196253     https://www.airbnb.com/users/show/196253   \n",
       "4        2954577    https://www.airbnb.com/users/show/2954577   \n",
       "...          ...                                          ...   \n",
       "21663  442065952  https://www.airbnb.com/users/show/442065952   \n",
       "21664  387195495  https://www.airbnb.com/users/show/387195495   \n",
       "21665   96471106   https://www.airbnb.com/users/show/96471106   \n",
       "21666   30446640   https://www.airbnb.com/users/show/30446640   \n",
       "21667   51907431   https://www.airbnb.com/users/show/51907431   \n",
       "\n",
       "                                host_name  host_since acceptance_rate  \\\n",
       "0                      Maria Carmen Marta  2021-09-21             NaN   \n",
       "1                                    Dici  2010-06-28             NaN   \n",
       "2                                 Abraham  2016-09-03             NaN   \n",
       "3      Condesa Haus Bed & Breakfast  CDMX  2010-08-09              66   \n",
       "4                        Lazaro Alejandro  2012-07-16             100   \n",
       "...                                   ...         ...             ...   \n",
       "21663                             Ricardo  2022-01-25             100   \n",
       "21664                             Daniela  2021-02-03             100   \n",
       "21665                         Mary Carmen  2016-09-23             NaN   \n",
       "21666                              Ericka  2015-04-01             100   \n",
       "21667                             Cecilia  2015-12-21             100   \n",
       "\n",
       "      superhost  host_listings_count host_identity_verified  ...  min_nights  \\\n",
       "0             f                    2                      t  ...           1   \n",
       "1             f                    2                      t  ...           1   \n",
       "2             f                    2                      f  ...           1   \n",
       "3             f                    9                      t  ...           1   \n",
       "4             t                    3                      t  ...           1   \n",
       "...         ...                  ...                    ...  ...         ...   \n",
       "21663         f                   79                      t  ...           1   \n",
       "21664         f                   22                      t  ...           2   \n",
       "21665         f                    3                      t  ...           1   \n",
       "21666         f                    0                      t  ...           3   \n",
       "21667         t                    7                      t  ...           2   \n",
       "\n",
       "       max_nights has_availability  availability_365  revs_num   first_rev  \\\n",
       "0             365                t               365         0         NaN   \n",
       "1               7                t               363         0         NaN   \n",
       "2            1125                t               179         1  2018-03-19   \n",
       "3             365                t               347        56  2011-11-09   \n",
       "4              30                t               222         5  2019-07-04   \n",
       "...           ...              ...               ...       ...         ...   \n",
       "21663        1125                t               355         3  2022-05-20   \n",
       "21664        1125                t               314       107  2018-01-04   \n",
       "21665         365                t               140         5  2019-12-13   \n",
       "21666         365                t               354         0         NaN   \n",
       "21667          40                t                10        58  2019-08-11   \n",
       "\n",
       "         last_rev  review_scores_rating reviews_per_month  bookings_num  \n",
       "0             NaN                   NaN               NaN           365  \n",
       "1             NaN                   NaN               NaN           365  \n",
       "2      2018-03-19                  5.00              0.02           365  \n",
       "3      2022-06-05                  4.59              0.43           365  \n",
       "4      2022-03-14                  5.00              0.14           365  \n",
       "...           ...                   ...               ...           ...  \n",
       "21663  2022-05-29                  3.00              2.73           365  \n",
       "21664  2022-02-07                  4.82              1.97           365  \n",
       "21665  2019-12-31                  4.60              0.16           365  \n",
       "21666         NaN                   NaN               NaN           365  \n",
       "21667  2022-06-13                  4.81              1.66           365  \n",
       "\n",
       "[21668 rows x 26 columns]"
      ]
     },
     "execution_count": 21,
     "metadata": {},
     "output_type": "execute_result"
    }
   ],
   "source": [
    "# Drop '_merge' column\n",
    "\n",
    "bnb_list_cal.drop(columns = ['_merge'])"
   ]
  },
  {
   "cell_type": "code",
   "execution_count": null,
   "id": "3309bd83",
   "metadata": {},
   "outputs": [],
   "source": []
  },
  {
   "cell_type": "code",
   "execution_count": null,
   "id": "241da2e6",
   "metadata": {},
   "outputs": [],
   "source": []
  },
  {
   "cell_type": "code",
   "execution_count": 22,
   "id": "52c118c7",
   "metadata": {},
   "outputs": [
    {
     "data": {
      "text/html": [
       "<div>\n",
       "<style scoped>\n",
       "    .dataframe tbody tr th:only-of-type {\n",
       "        vertical-align: middle;\n",
       "    }\n",
       "\n",
       "    .dataframe tbody tr th {\n",
       "        vertical-align: top;\n",
       "    }\n",
       "\n",
       "    .dataframe thead th {\n",
       "        text-align: right;\n",
       "    }\n",
       "</style>\n",
       "<table border=\"1\" class=\"dataframe\">\n",
       "  <thead>\n",
       "    <tr style=\"text-align: right;\">\n",
       "      <th></th>\n",
       "      <th>listing_id</th>\n",
       "      <th>listing_url</th>\n",
       "      <th>host_id</th>\n",
       "      <th>host_url</th>\n",
       "      <th>host_name</th>\n",
       "      <th>host_since</th>\n",
       "      <th>acceptance_rate</th>\n",
       "      <th>superhost</th>\n",
       "      <th>host_listings_count</th>\n",
       "      <th>host_identity_verified</th>\n",
       "      <th>...</th>\n",
       "      <th>has_availability</th>\n",
       "      <th>availability_365</th>\n",
       "      <th>revs_num</th>\n",
       "      <th>first_rev</th>\n",
       "      <th>last_rev</th>\n",
       "      <th>review_scores_rating</th>\n",
       "      <th>reviews_per_month</th>\n",
       "      <th>bookings_num</th>\n",
       "      <th>_merge</th>\n",
       "      <th>rev_id</th>\n",
       "    </tr>\n",
       "  </thead>\n",
       "  <tbody>\n",
       "    <tr>\n",
       "      <th>0</th>\n",
       "      <td>15511977</td>\n",
       "      <td>https://www.airbnb.com/rooms/15511977</td>\n",
       "      <td>93364273</td>\n",
       "      <td>https://www.airbnb.com/users/show/93364273</td>\n",
       "      <td>Abraham</td>\n",
       "      <td>2016-09-03</td>\n",
       "      <td>NaN</td>\n",
       "      <td>f</td>\n",
       "      <td>2</td>\n",
       "      <td>f</td>\n",
       "      <td>...</td>\n",
       "      <td>t</td>\n",
       "      <td>179</td>\n",
       "      <td>1</td>\n",
       "      <td>2018-03-19</td>\n",
       "      <td>2018-03-19</td>\n",
       "      <td>5.00</td>\n",
       "      <td>0.02</td>\n",
       "      <td>365</td>\n",
       "      <td>both</td>\n",
       "      <td>1</td>\n",
       "    </tr>\n",
       "    <tr>\n",
       "      <th>1</th>\n",
       "      <td>44616</td>\n",
       "      <td>https://www.airbnb.com/rooms/44616</td>\n",
       "      <td>196253</td>\n",
       "      <td>https://www.airbnb.com/users/show/196253</td>\n",
       "      <td>Condesa Haus Bed &amp; Breakfast  CDMX</td>\n",
       "      <td>2010-08-09</td>\n",
       "      <td>66</td>\n",
       "      <td>f</td>\n",
       "      <td>9</td>\n",
       "      <td>t</td>\n",
       "      <td>...</td>\n",
       "      <td>t</td>\n",
       "      <td>347</td>\n",
       "      <td>56</td>\n",
       "      <td>2011-11-09</td>\n",
       "      <td>2022-06-05</td>\n",
       "      <td>4.59</td>\n",
       "      <td>0.43</td>\n",
       "      <td>365</td>\n",
       "      <td>both</td>\n",
       "      <td>56</td>\n",
       "    </tr>\n",
       "    <tr>\n",
       "      <th>2</th>\n",
       "      <td>34776449</td>\n",
       "      <td>https://www.airbnb.com/rooms/34776449</td>\n",
       "      <td>2954577</td>\n",
       "      <td>https://www.airbnb.com/users/show/2954577</td>\n",
       "      <td>Lazaro Alejandro</td>\n",
       "      <td>2012-07-16</td>\n",
       "      <td>100</td>\n",
       "      <td>t</td>\n",
       "      <td>3</td>\n",
       "      <td>t</td>\n",
       "      <td>...</td>\n",
       "      <td>t</td>\n",
       "      <td>222</td>\n",
       "      <td>5</td>\n",
       "      <td>2019-07-04</td>\n",
       "      <td>2022-03-14</td>\n",
       "      <td>5.00</td>\n",
       "      <td>0.14</td>\n",
       "      <td>365</td>\n",
       "      <td>both</td>\n",
       "      <td>5</td>\n",
       "    </tr>\n",
       "    <tr>\n",
       "      <th>3</th>\n",
       "      <td>56074</td>\n",
       "      <td>https://www.airbnb.com/rooms/56074</td>\n",
       "      <td>265650</td>\n",
       "      <td>https://www.airbnb.com/users/show/265650</td>\n",
       "      <td>Maris</td>\n",
       "      <td>2010-10-19</td>\n",
       "      <td>90</td>\n",
       "      <td>t</td>\n",
       "      <td>2</td>\n",
       "      <td>t</td>\n",
       "      <td>...</td>\n",
       "      <td>t</td>\n",
       "      <td>344</td>\n",
       "      <td>72</td>\n",
       "      <td>2011-04-02</td>\n",
       "      <td>2022-06-19</td>\n",
       "      <td>4.88</td>\n",
       "      <td>0.53</td>\n",
       "      <td>365</td>\n",
       "      <td>both</td>\n",
       "      <td>72</td>\n",
       "    </tr>\n",
       "    <tr>\n",
       "      <th>4</th>\n",
       "      <td>58955</td>\n",
       "      <td>https://www.airbnb.com/rooms/58955</td>\n",
       "      <td>282620</td>\n",
       "      <td>https://www.airbnb.com/users/show/282620</td>\n",
       "      <td>Laura</td>\n",
       "      <td>2010-11-09</td>\n",
       "      <td>29</td>\n",
       "      <td>f</td>\n",
       "      <td>1</td>\n",
       "      <td>t</td>\n",
       "      <td>...</td>\n",
       "      <td>t</td>\n",
       "      <td>47</td>\n",
       "      <td>45</td>\n",
       "      <td>2011-12-26</td>\n",
       "      <td>2022-01-06</td>\n",
       "      <td>5.00</td>\n",
       "      <td>0.35</td>\n",
       "      <td>365</td>\n",
       "      <td>both</td>\n",
       "      <td>45</td>\n",
       "    </tr>\n",
       "    <tr>\n",
       "      <th>...</th>\n",
       "      <td>...</td>\n",
       "      <td>...</td>\n",
       "      <td>...</td>\n",
       "      <td>...</td>\n",
       "      <td>...</td>\n",
       "      <td>...</td>\n",
       "      <td>...</td>\n",
       "      <td>...</td>\n",
       "      <td>...</td>\n",
       "      <td>...</td>\n",
       "      <td>...</td>\n",
       "      <td>...</td>\n",
       "      <td>...</td>\n",
       "      <td>...</td>\n",
       "      <td>...</td>\n",
       "      <td>...</td>\n",
       "      <td>...</td>\n",
       "      <td>...</td>\n",
       "      <td>...</td>\n",
       "      <td>...</td>\n",
       "      <td>...</td>\n",
       "    </tr>\n",
       "    <tr>\n",
       "      <th>17674</th>\n",
       "      <td>51686971</td>\n",
       "      <td>https://www.airbnb.com/rooms/51686971</td>\n",
       "      <td>395371158</td>\n",
       "      <td>https://www.airbnb.com/users/show/395371158</td>\n",
       "      <td>Gabriela</td>\n",
       "      <td>2021-04-03</td>\n",
       "      <td>100</td>\n",
       "      <td>f</td>\n",
       "      <td>0</td>\n",
       "      <td>t</td>\n",
       "      <td>...</td>\n",
       "      <td>t</td>\n",
       "      <td>365</td>\n",
       "      <td>6</td>\n",
       "      <td>2021-09-12</td>\n",
       "      <td>2021-12-05</td>\n",
       "      <td>4.67</td>\n",
       "      <td>0.64</td>\n",
       "      <td>365</td>\n",
       "      <td>both</td>\n",
       "      <td>6</td>\n",
       "    </tr>\n",
       "    <tr>\n",
       "      <th>17675</th>\n",
       "      <td>618034488468131637</td>\n",
       "      <td>https://www.airbnb.com/rooms/618034488468131637</td>\n",
       "      <td>442065952</td>\n",
       "      <td>https://www.airbnb.com/users/show/442065952</td>\n",
       "      <td>Ricardo</td>\n",
       "      <td>2022-01-25</td>\n",
       "      <td>100</td>\n",
       "      <td>f</td>\n",
       "      <td>79</td>\n",
       "      <td>t</td>\n",
       "      <td>...</td>\n",
       "      <td>t</td>\n",
       "      <td>355</td>\n",
       "      <td>3</td>\n",
       "      <td>2022-05-20</td>\n",
       "      <td>2022-05-29</td>\n",
       "      <td>3.00</td>\n",
       "      <td>2.73</td>\n",
       "      <td>365</td>\n",
       "      <td>both</td>\n",
       "      <td>3</td>\n",
       "    </tr>\n",
       "    <tr>\n",
       "      <th>17676</th>\n",
       "      <td>22107097</td>\n",
       "      <td>https://www.airbnb.com/rooms/22107097</td>\n",
       "      <td>387195495</td>\n",
       "      <td>https://www.airbnb.com/users/show/387195495</td>\n",
       "      <td>Daniela</td>\n",
       "      <td>2021-02-03</td>\n",
       "      <td>100</td>\n",
       "      <td>f</td>\n",
       "      <td>22</td>\n",
       "      <td>t</td>\n",
       "      <td>...</td>\n",
       "      <td>t</td>\n",
       "      <td>314</td>\n",
       "      <td>107</td>\n",
       "      <td>2018-01-04</td>\n",
       "      <td>2022-02-07</td>\n",
       "      <td>4.82</td>\n",
       "      <td>1.97</td>\n",
       "      <td>365</td>\n",
       "      <td>both</td>\n",
       "      <td>107</td>\n",
       "    </tr>\n",
       "    <tr>\n",
       "      <th>17677</th>\n",
       "      <td>40617809</td>\n",
       "      <td>https://www.airbnb.com/rooms/40617809</td>\n",
       "      <td>96471106</td>\n",
       "      <td>https://www.airbnb.com/users/show/96471106</td>\n",
       "      <td>Mary Carmen</td>\n",
       "      <td>2016-09-23</td>\n",
       "      <td>NaN</td>\n",
       "      <td>f</td>\n",
       "      <td>3</td>\n",
       "      <td>t</td>\n",
       "      <td>...</td>\n",
       "      <td>t</td>\n",
       "      <td>140</td>\n",
       "      <td>5</td>\n",
       "      <td>2019-12-13</td>\n",
       "      <td>2019-12-31</td>\n",
       "      <td>4.60</td>\n",
       "      <td>0.16</td>\n",
       "      <td>365</td>\n",
       "      <td>both</td>\n",
       "      <td>5</td>\n",
       "    </tr>\n",
       "    <tr>\n",
       "      <th>17678</th>\n",
       "      <td>37175605</td>\n",
       "      <td>https://www.airbnb.com/rooms/37175605</td>\n",
       "      <td>51907431</td>\n",
       "      <td>https://www.airbnb.com/users/show/51907431</td>\n",
       "      <td>Cecilia</td>\n",
       "      <td>2015-12-21</td>\n",
       "      <td>100</td>\n",
       "      <td>t</td>\n",
       "      <td>7</td>\n",
       "      <td>t</td>\n",
       "      <td>...</td>\n",
       "      <td>t</td>\n",
       "      <td>10</td>\n",
       "      <td>58</td>\n",
       "      <td>2019-08-11</td>\n",
       "      <td>2022-06-13</td>\n",
       "      <td>4.81</td>\n",
       "      <td>1.66</td>\n",
       "      <td>365</td>\n",
       "      <td>both</td>\n",
       "      <td>58</td>\n",
       "    </tr>\n",
       "  </tbody>\n",
       "</table>\n",
       "<p>17679 rows × 28 columns</p>\n",
       "</div>"
      ],
      "text/plain": [
       "               listing_id                                      listing_url  \\\n",
       "0                15511977            https://www.airbnb.com/rooms/15511977   \n",
       "1                   44616               https://www.airbnb.com/rooms/44616   \n",
       "2                34776449            https://www.airbnb.com/rooms/34776449   \n",
       "3                   56074               https://www.airbnb.com/rooms/56074   \n",
       "4                   58955               https://www.airbnb.com/rooms/58955   \n",
       "...                   ...                                              ...   \n",
       "17674            51686971            https://www.airbnb.com/rooms/51686971   \n",
       "17675  618034488468131637  https://www.airbnb.com/rooms/618034488468131637   \n",
       "17676            22107097            https://www.airbnb.com/rooms/22107097   \n",
       "17677            40617809            https://www.airbnb.com/rooms/40617809   \n",
       "17678            37175605            https://www.airbnb.com/rooms/37175605   \n",
       "\n",
       "         host_id                                     host_url  \\\n",
       "0       93364273   https://www.airbnb.com/users/show/93364273   \n",
       "1         196253     https://www.airbnb.com/users/show/196253   \n",
       "2        2954577    https://www.airbnb.com/users/show/2954577   \n",
       "3         265650     https://www.airbnb.com/users/show/265650   \n",
       "4         282620     https://www.airbnb.com/users/show/282620   \n",
       "...          ...                                          ...   \n",
       "17674  395371158  https://www.airbnb.com/users/show/395371158   \n",
       "17675  442065952  https://www.airbnb.com/users/show/442065952   \n",
       "17676  387195495  https://www.airbnb.com/users/show/387195495   \n",
       "17677   96471106   https://www.airbnb.com/users/show/96471106   \n",
       "17678   51907431   https://www.airbnb.com/users/show/51907431   \n",
       "\n",
       "                                host_name  host_since acceptance_rate  \\\n",
       "0                                 Abraham  2016-09-03             NaN   \n",
       "1      Condesa Haus Bed & Breakfast  CDMX  2010-08-09              66   \n",
       "2                        Lazaro Alejandro  2012-07-16             100   \n",
       "3                                   Maris  2010-10-19              90   \n",
       "4                                   Laura  2010-11-09              29   \n",
       "...                                   ...         ...             ...   \n",
       "17674                            Gabriela  2021-04-03             100   \n",
       "17675                             Ricardo  2022-01-25             100   \n",
       "17676                             Daniela  2021-02-03             100   \n",
       "17677                         Mary Carmen  2016-09-23             NaN   \n",
       "17678                             Cecilia  2015-12-21             100   \n",
       "\n",
       "      superhost  host_listings_count host_identity_verified  ...  \\\n",
       "0             f                    2                      f  ...   \n",
       "1             f                    9                      t  ...   \n",
       "2             t                    3                      t  ...   \n",
       "3             t                    2                      t  ...   \n",
       "4             f                    1                      t  ...   \n",
       "...         ...                  ...                    ...  ...   \n",
       "17674         f                    0                      t  ...   \n",
       "17675         f                   79                      t  ...   \n",
       "17676         f                   22                      t  ...   \n",
       "17677         f                    3                      t  ...   \n",
       "17678         t                    7                      t  ...   \n",
       "\n",
       "       has_availability  availability_365 revs_num   first_rev    last_rev  \\\n",
       "0                     t               179        1  2018-03-19  2018-03-19   \n",
       "1                     t               347       56  2011-11-09  2022-06-05   \n",
       "2                     t               222        5  2019-07-04  2022-03-14   \n",
       "3                     t               344       72  2011-04-02  2022-06-19   \n",
       "4                     t                47       45  2011-12-26  2022-01-06   \n",
       "...                 ...               ...      ...         ...         ...   \n",
       "17674                 t               365        6  2021-09-12  2021-12-05   \n",
       "17675                 t               355        3  2022-05-20  2022-05-29   \n",
       "17676                 t               314      107  2018-01-04  2022-02-07   \n",
       "17677                 t               140        5  2019-12-13  2019-12-31   \n",
       "17678                 t                10       58  2019-08-11  2022-06-13   \n",
       "\n",
       "       review_scores_rating  reviews_per_month  bookings_num _merge  rev_id  \n",
       "0                      5.00               0.02           365   both       1  \n",
       "1                      4.59               0.43           365   both      56  \n",
       "2                      5.00               0.14           365   both       5  \n",
       "3                      4.88               0.53           365   both      72  \n",
       "4                      5.00               0.35           365   both      45  \n",
       "...                     ...                ...           ...    ...     ...  \n",
       "17674                  4.67               0.64           365   both       6  \n",
       "17675                  3.00               2.73           365   both       3  \n",
       "17676                  4.82               1.97           365   both     107  \n",
       "17677                  4.60               0.16           365   both       5  \n",
       "17678                  4.81               1.66           365   both      58  \n",
       "\n",
       "[17679 rows x 28 columns]"
      ]
     },
     "execution_count": 22,
     "metadata": {},
     "output_type": "execute_result"
    }
   ],
   "source": [
    "# Merge 'bnb_list_cal' and 'bnbrevs' dataframes into main dataframe called bnb\n",
    "\n",
    "bnb_list_cal.merge(bnbrevs_cnts, on = 'listing_id')"
   ]
  },
  {
   "cell_type": "code",
   "execution_count": 23,
   "id": "4a6d83ec",
   "metadata": {},
   "outputs": [],
   "source": [
    "# Apply merge\n",
    "\n",
    "bnb = bnb_list_cal.merge(bnbrevs_cnts, on = 'listing_id')"
   ]
  },
  {
   "cell_type": "code",
   "execution_count": 24,
   "id": "505b9023",
   "metadata": {},
   "outputs": [
    {
     "data": {
      "text/plain": [
       "Index(['listing_id', 'listing_url', 'host_id', 'host_url', 'host_name',\n",
       "       'host_since', 'acceptance_rate', 'superhost', 'host_listings_count',\n",
       "       'host_identity_verified', 'latitude', 'longitude', 'room_type',\n",
       "       'accommodates', 'bedrooms', 'price', 'min_nights', 'max_nights',\n",
       "       'has_availability', 'availability_365', 'revs_num', 'first_rev',\n",
       "       'last_rev', 'review_scores_rating', 'reviews_per_month', 'bookings_num',\n",
       "       '_merge', 'rev_id'],\n",
       "      dtype='object')"
      ]
     },
     "execution_count": 24,
     "metadata": {},
     "output_type": "execute_result"
    }
   ],
   "source": [
    "# See 'bnb' columns\n",
    "\n",
    "bnb.columns"
   ]
  },
  {
   "cell_type": "code",
   "execution_count": 25,
   "id": "851e9610",
   "metadata": {},
   "outputs": [],
   "source": [
    "# Drop '_merge' and 'rev_id' columns\n",
    "\n",
    "bnb = bnb.drop(columns = ['_merge', 'rev_id'])"
   ]
  },
  {
   "cell_type": "code",
   "execution_count": 26,
   "id": "1c86dc21",
   "metadata": {},
   "outputs": [
    {
     "data": {
      "text/plain": [
       "(17679, 26)"
      ]
     },
     "execution_count": 26,
     "metadata": {},
     "output_type": "execute_result"
    }
   ],
   "source": [
    "bnb.shape"
   ]
  },
  {
   "cell_type": "markdown",
   "id": "9fd3d0ed",
   "metadata": {},
   "source": [
    "## 02.3 Export 'bnb' as main dataframe."
   ]
  },
  {
   "cell_type": "code",
   "execution_count": 27,
   "id": "e9243ad9",
   "metadata": {},
   "outputs": [],
   "source": [
    "bnb.to_pickle(os.path.join(path, '02 Data', 'Prepared Data', '05_Sep_2022', 'bnb.pkl'))"
   ]
  },
  {
   "cell_type": "markdown",
   "id": "1dd9934c",
   "metadata": {},
   "source": [
    "# 03 Exploring Relationships."
   ]
  },
  {
   "cell_type": "markdown",
   "id": "a402b20c",
   "metadata": {},
   "source": [
    "## 03.1 Subset 'bnb' dataframe."
   ]
  },
  {
   "cell_type": "code",
   "execution_count": 28,
   "id": "bef1ec5b",
   "metadata": {},
   "outputs": [
    {
     "data": {
      "text/plain": [
       "Index(['listing_id', 'listing_url', 'host_id', 'host_url', 'host_name',\n",
       "       'host_since', 'acceptance_rate', 'superhost', 'host_listings_count',\n",
       "       'host_identity_verified', 'latitude', 'longitude', 'room_type',\n",
       "       'accommodates', 'bedrooms', 'price', 'min_nights', 'max_nights',\n",
       "       'has_availability', 'availability_365', 'revs_num', 'first_rev',\n",
       "       'last_rev', 'review_scores_rating', 'reviews_per_month',\n",
       "       'bookings_num'],\n",
       "      dtype='object')"
      ]
     },
     "execution_count": 28,
     "metadata": {},
     "output_type": "execute_result"
    }
   ],
   "source": [
    "# 'bnblist' dataframe's columns\n",
    "\n",
    "bnb.columns"
   ]
  },
  {
   "cell_type": "code",
   "execution_count": 29,
   "id": "075596ea",
   "metadata": {},
   "outputs": [],
   "source": [
    "# 'bnb' subset\n",
    "\n",
    "bnb_sub = bnb[['acceptance_rate',\n",
    "                   'superhost',\n",
    "                   'host_listings_count',\n",
    "                   'host_identity_verified',\n",
    "                   'latitude', \n",
    "                   'longitude',\n",
    "                   'room_type',\n",
    "                   'accommodates',\n",
    "                   'bedrooms',\n",
    "                   'price',\n",
    "                   'min_nights',\n",
    "                   'max_nights',\n",
    "                   'has_availability',\n",
    "                   'availability_365',\n",
    "                   'revs_num',\n",
    "                   'first_rev',\n",
    "                   'last_rev',\n",
    "                   'review_scores_rating',\n",
    "                   'reviews_per_month',\n",
    "                   'bookings_num']]"
   ]
  },
  {
   "cell_type": "code",
   "execution_count": 30,
   "id": "d6cea83e",
   "metadata": {},
   "outputs": [
    {
     "data": {
      "text/html": [
       "<div>\n",
       "<style scoped>\n",
       "    .dataframe tbody tr th:only-of-type {\n",
       "        vertical-align: middle;\n",
       "    }\n",
       "\n",
       "    .dataframe tbody tr th {\n",
       "        vertical-align: top;\n",
       "    }\n",
       "\n",
       "    .dataframe thead th {\n",
       "        text-align: right;\n",
       "    }\n",
       "</style>\n",
       "<table border=\"1\" class=\"dataframe\">\n",
       "  <thead>\n",
       "    <tr style=\"text-align: right;\">\n",
       "      <th></th>\n",
       "      <th>acceptance_rate</th>\n",
       "      <th>superhost</th>\n",
       "      <th>host_listings_count</th>\n",
       "      <th>host_identity_verified</th>\n",
       "      <th>latitude</th>\n",
       "      <th>longitude</th>\n",
       "      <th>room_type</th>\n",
       "      <th>accommodates</th>\n",
       "      <th>bedrooms</th>\n",
       "      <th>price</th>\n",
       "      <th>min_nights</th>\n",
       "      <th>max_nights</th>\n",
       "      <th>has_availability</th>\n",
       "      <th>availability_365</th>\n",
       "      <th>revs_num</th>\n",
       "      <th>first_rev</th>\n",
       "      <th>last_rev</th>\n",
       "      <th>review_scores_rating</th>\n",
       "      <th>reviews_per_month</th>\n",
       "      <th>bookings_num</th>\n",
       "    </tr>\n",
       "  </thead>\n",
       "  <tbody>\n",
       "    <tr>\n",
       "      <th>0</th>\n",
       "      <td>NaN</td>\n",
       "      <td>f</td>\n",
       "      <td>2</td>\n",
       "      <td>f</td>\n",
       "      <td>19.41095</td>\n",
       "      <td>-99.24418</td>\n",
       "      <td>Private room</td>\n",
       "      <td>2</td>\n",
       "      <td>1</td>\n",
       "      <td>800</td>\n",
       "      <td>1</td>\n",
       "      <td>1125</td>\n",
       "      <td>t</td>\n",
       "      <td>179</td>\n",
       "      <td>1</td>\n",
       "      <td>2018-03-19</td>\n",
       "      <td>2018-03-19</td>\n",
       "      <td>5.00</td>\n",
       "      <td>0.02</td>\n",
       "      <td>365</td>\n",
       "    </tr>\n",
       "    <tr>\n",
       "      <th>1</th>\n",
       "      <td>66</td>\n",
       "      <td>f</td>\n",
       "      <td>9</td>\n",
       "      <td>t</td>\n",
       "      <td>19.41162</td>\n",
       "      <td>-99.17794</td>\n",
       "      <td>Entire home/apt</td>\n",
       "      <td>14</td>\n",
       "      <td>5</td>\n",
       "      <td>18000</td>\n",
       "      <td>1</td>\n",
       "      <td>365</td>\n",
       "      <td>t</td>\n",
       "      <td>347</td>\n",
       "      <td>56</td>\n",
       "      <td>2011-11-09</td>\n",
       "      <td>2022-06-05</td>\n",
       "      <td>4.59</td>\n",
       "      <td>0.43</td>\n",
       "      <td>365</td>\n",
       "    </tr>\n",
       "    <tr>\n",
       "      <th>2</th>\n",
       "      <td>100</td>\n",
       "      <td>t</td>\n",
       "      <td>3</td>\n",
       "      <td>t</td>\n",
       "      <td>19.42641</td>\n",
       "      <td>-99.22591</td>\n",
       "      <td>Private room</td>\n",
       "      <td>3</td>\n",
       "      <td>1</td>\n",
       "      <td>1779</td>\n",
       "      <td>1</td>\n",
       "      <td>30</td>\n",
       "      <td>t</td>\n",
       "      <td>222</td>\n",
       "      <td>5</td>\n",
       "      <td>2019-07-04</td>\n",
       "      <td>2022-03-14</td>\n",
       "      <td>5.00</td>\n",
       "      <td>0.14</td>\n",
       "      <td>365</td>\n",
       "    </tr>\n",
       "    <tr>\n",
       "      <th>3</th>\n",
       "      <td>90</td>\n",
       "      <td>t</td>\n",
       "      <td>2</td>\n",
       "      <td>t</td>\n",
       "      <td>19.43977</td>\n",
       "      <td>-99.15605</td>\n",
       "      <td>Entire home/apt</td>\n",
       "      <td>2</td>\n",
       "      <td>1</td>\n",
       "      <td>650</td>\n",
       "      <td>2</td>\n",
       "      <td>250</td>\n",
       "      <td>t</td>\n",
       "      <td>344</td>\n",
       "      <td>72</td>\n",
       "      <td>2011-04-02</td>\n",
       "      <td>2022-06-19</td>\n",
       "      <td>4.88</td>\n",
       "      <td>0.53</td>\n",
       "      <td>365</td>\n",
       "    </tr>\n",
       "    <tr>\n",
       "      <th>4</th>\n",
       "      <td>29</td>\n",
       "      <td>f</td>\n",
       "      <td>1</td>\n",
       "      <td>t</td>\n",
       "      <td>19.42113</td>\n",
       "      <td>-99.15955</td>\n",
       "      <td>Entire home/apt</td>\n",
       "      <td>2</td>\n",
       "      <td>1</td>\n",
       "      <td>2019</td>\n",
       "      <td>7</td>\n",
       "      <td>60</td>\n",
       "      <td>t</td>\n",
       "      <td>47</td>\n",
       "      <td>45</td>\n",
       "      <td>2011-12-26</td>\n",
       "      <td>2022-01-06</td>\n",
       "      <td>5.00</td>\n",
       "      <td>0.35</td>\n",
       "      <td>365</td>\n",
       "    </tr>\n",
       "    <tr>\n",
       "      <th>...</th>\n",
       "      <td>...</td>\n",
       "      <td>...</td>\n",
       "      <td>...</td>\n",
       "      <td>...</td>\n",
       "      <td>...</td>\n",
       "      <td>...</td>\n",
       "      <td>...</td>\n",
       "      <td>...</td>\n",
       "      <td>...</td>\n",
       "      <td>...</td>\n",
       "      <td>...</td>\n",
       "      <td>...</td>\n",
       "      <td>...</td>\n",
       "      <td>...</td>\n",
       "      <td>...</td>\n",
       "      <td>...</td>\n",
       "      <td>...</td>\n",
       "      <td>...</td>\n",
       "      <td>...</td>\n",
       "      <td>...</td>\n",
       "    </tr>\n",
       "    <tr>\n",
       "      <th>17674</th>\n",
       "      <td>100</td>\n",
       "      <td>f</td>\n",
       "      <td>0</td>\n",
       "      <td>t</td>\n",
       "      <td>19.48499</td>\n",
       "      <td>-99.06073</td>\n",
       "      <td>Private room</td>\n",
       "      <td>1</td>\n",
       "      <td>1</td>\n",
       "      <td>210</td>\n",
       "      <td>1</td>\n",
       "      <td>365</td>\n",
       "      <td>t</td>\n",
       "      <td>365</td>\n",
       "      <td>6</td>\n",
       "      <td>2021-09-12</td>\n",
       "      <td>2021-12-05</td>\n",
       "      <td>4.67</td>\n",
       "      <td>0.64</td>\n",
       "      <td>365</td>\n",
       "    </tr>\n",
       "    <tr>\n",
       "      <th>17675</th>\n",
       "      <td>100</td>\n",
       "      <td>f</td>\n",
       "      <td>79</td>\n",
       "      <td>t</td>\n",
       "      <td>19.49998</td>\n",
       "      <td>-99.22601</td>\n",
       "      <td>Entire home/apt</td>\n",
       "      <td>4</td>\n",
       "      <td>1</td>\n",
       "      <td>673</td>\n",
       "      <td>1</td>\n",
       "      <td>1125</td>\n",
       "      <td>t</td>\n",
       "      <td>355</td>\n",
       "      <td>3</td>\n",
       "      <td>2022-05-20</td>\n",
       "      <td>2022-05-29</td>\n",
       "      <td>3.00</td>\n",
       "      <td>2.73</td>\n",
       "      <td>365</td>\n",
       "    </tr>\n",
       "    <tr>\n",
       "      <th>17676</th>\n",
       "      <td>100</td>\n",
       "      <td>f</td>\n",
       "      <td>22</td>\n",
       "      <td>t</td>\n",
       "      <td>19.50787</td>\n",
       "      <td>-99.22067</td>\n",
       "      <td>Entire home/apt</td>\n",
       "      <td>3</td>\n",
       "      <td>1</td>\n",
       "      <td>897</td>\n",
       "      <td>2</td>\n",
       "      <td>1125</td>\n",
       "      <td>t</td>\n",
       "      <td>314</td>\n",
       "      <td>107</td>\n",
       "      <td>2018-01-04</td>\n",
       "      <td>2022-02-07</td>\n",
       "      <td>4.82</td>\n",
       "      <td>1.97</td>\n",
       "      <td>365</td>\n",
       "    </tr>\n",
       "    <tr>\n",
       "      <th>17677</th>\n",
       "      <td>NaN</td>\n",
       "      <td>f</td>\n",
       "      <td>3</td>\n",
       "      <td>t</td>\n",
       "      <td>19.50753</td>\n",
       "      <td>-99.22506</td>\n",
       "      <td>Entire home/apt</td>\n",
       "      <td>1</td>\n",
       "      <td>1</td>\n",
       "      <td>230</td>\n",
       "      <td>1</td>\n",
       "      <td>365</td>\n",
       "      <td>t</td>\n",
       "      <td>140</td>\n",
       "      <td>5</td>\n",
       "      <td>2019-12-13</td>\n",
       "      <td>2019-12-31</td>\n",
       "      <td>4.60</td>\n",
       "      <td>0.16</td>\n",
       "      <td>365</td>\n",
       "    </tr>\n",
       "    <tr>\n",
       "      <th>17678</th>\n",
       "      <td>100</td>\n",
       "      <td>t</td>\n",
       "      <td>7</td>\n",
       "      <td>t</td>\n",
       "      <td>19.49004</td>\n",
       "      <td>-99.23031</td>\n",
       "      <td>Entire home/apt</td>\n",
       "      <td>6</td>\n",
       "      <td>6</td>\n",
       "      <td>3228</td>\n",
       "      <td>2</td>\n",
       "      <td>40</td>\n",
       "      <td>t</td>\n",
       "      <td>10</td>\n",
       "      <td>58</td>\n",
       "      <td>2019-08-11</td>\n",
       "      <td>2022-06-13</td>\n",
       "      <td>4.81</td>\n",
       "      <td>1.66</td>\n",
       "      <td>365</td>\n",
       "    </tr>\n",
       "  </tbody>\n",
       "</table>\n",
       "<p>17679 rows × 20 columns</p>\n",
       "</div>"
      ],
      "text/plain": [
       "      acceptance_rate superhost  host_listings_count host_identity_verified  \\\n",
       "0                 NaN         f                    2                      f   \n",
       "1                  66         f                    9                      t   \n",
       "2                 100         t                    3                      t   \n",
       "3                  90         t                    2                      t   \n",
       "4                  29         f                    1                      t   \n",
       "...               ...       ...                  ...                    ...   \n",
       "17674             100         f                    0                      t   \n",
       "17675             100         f                   79                      t   \n",
       "17676             100         f                   22                      t   \n",
       "17677             NaN         f                    3                      t   \n",
       "17678             100         t                    7                      t   \n",
       "\n",
       "       latitude  longitude        room_type  accommodates  bedrooms  price  \\\n",
       "0      19.41095  -99.24418     Private room             2         1    800   \n",
       "1      19.41162  -99.17794  Entire home/apt            14         5  18000   \n",
       "2      19.42641  -99.22591     Private room             3         1   1779   \n",
       "3      19.43977  -99.15605  Entire home/apt             2         1    650   \n",
       "4      19.42113  -99.15955  Entire home/apt             2         1   2019   \n",
       "...         ...        ...              ...           ...       ...    ...   \n",
       "17674  19.48499  -99.06073     Private room             1         1    210   \n",
       "17675  19.49998  -99.22601  Entire home/apt             4         1    673   \n",
       "17676  19.50787  -99.22067  Entire home/apt             3         1    897   \n",
       "17677  19.50753  -99.22506  Entire home/apt             1         1    230   \n",
       "17678  19.49004  -99.23031  Entire home/apt             6         6   3228   \n",
       "\n",
       "       min_nights  max_nights has_availability  availability_365  revs_num  \\\n",
       "0               1        1125                t               179         1   \n",
       "1               1         365                t               347        56   \n",
       "2               1          30                t               222         5   \n",
       "3               2         250                t               344        72   \n",
       "4               7          60                t                47        45   \n",
       "...           ...         ...              ...               ...       ...   \n",
       "17674           1         365                t               365         6   \n",
       "17675           1        1125                t               355         3   \n",
       "17676           2        1125                t               314       107   \n",
       "17677           1         365                t               140         5   \n",
       "17678           2          40                t                10        58   \n",
       "\n",
       "        first_rev    last_rev  review_scores_rating  reviews_per_month  \\\n",
       "0      2018-03-19  2018-03-19                  5.00               0.02   \n",
       "1      2011-11-09  2022-06-05                  4.59               0.43   \n",
       "2      2019-07-04  2022-03-14                  5.00               0.14   \n",
       "3      2011-04-02  2022-06-19                  4.88               0.53   \n",
       "4      2011-12-26  2022-01-06                  5.00               0.35   \n",
       "...           ...         ...                   ...                ...   \n",
       "17674  2021-09-12  2021-12-05                  4.67               0.64   \n",
       "17675  2022-05-20  2022-05-29                  3.00               2.73   \n",
       "17676  2018-01-04  2022-02-07                  4.82               1.97   \n",
       "17677  2019-12-13  2019-12-31                  4.60               0.16   \n",
       "17678  2019-08-11  2022-06-13                  4.81               1.66   \n",
       "\n",
       "       bookings_num  \n",
       "0               365  \n",
       "1               365  \n",
       "2               365  \n",
       "3               365  \n",
       "4               365  \n",
       "...             ...  \n",
       "17674           365  \n",
       "17675           365  \n",
       "17676           365  \n",
       "17677           365  \n",
       "17678           365  \n",
       "\n",
       "[17679 rows x 20 columns]"
      ]
     },
     "execution_count": 30,
     "metadata": {},
     "output_type": "execute_result"
    }
   ],
   "source": [
    "# Verify 'bnblist_sub' subset\n",
    "\n",
    "bnb_sub"
   ]
  },
  {
   "cell_type": "markdown",
   "id": "d388c775",
   "metadata": {},
   "source": [
    "## 03.2 Correlation Matrix Heatmap for 'bnb_sub'."
   ]
  },
  {
   "cell_type": "code",
   "execution_count": 31,
   "id": "16a765c3",
   "metadata": {},
   "outputs": [
    {
     "data": {
      "image/png": "[encoded data removed]",
      "text/plain": [
       "<Figure size 720x720 with 2 Axes>"
      ]
     },
     "metadata": {
      "needs_background": "light"
     },
     "output_type": "display_data"
    }
   ],
   "source": [
    "# Create subplot with matplotlib\n",
    "\n",
    "f,ax = plt.subplots(figsize=(10,10))\n",
    "\n",
    "# Create correlation heatmap in seaborn by applying heatmap onto the correlation matrix and subplots defined above\n",
    "\n",
    "corr = sns.heatmap(bnb_sub.corr(), annot = True, ax = ax)"
   ]
  },
  {
   "cell_type": "markdown",
   "id": "2a3ea72b",
   "metadata": {},
   "source": [
    "#### The most relevant variables either are non-linear varaibles since the coefficients formed in this plot, os simply they're not realted at all--if this is the case, most likely some varaibles will have to be derived:\n",
    "\n",
    "##### - 'host_listings_count'\n",
    "##### - 'rooom_type'\n",
    "##### - 'price'\n",
    "##### - 'latitude' & 'longitude'\n",
    "##### - 'reviews_per_month'\n",
    "##### - bookings seasonality--will be derived as a categorical variable\n",
    "##### - 'bookings_num'\n",
    "\n",
    "#### The only relevant correlations are those between 'revs_num'/'reviews_per_month' and 'accommodates'/'bedrooms', which really don't provide any relevant information that can be used to unveil, for example, if there's anything that can point to the impact of the multiple listings held by a single host."
   ]
  },
  {
   "cell_type": "markdown",
   "id": "d0f5f6bb",
   "metadata": {},
   "source": [
    "## 03.3 Scatterplots for 'bnb'."
   ]
  },
  {
   "cell_type": "code",
   "execution_count": 32,
   "id": "97e6ce47",
   "metadata": {},
   "outputs": [
    {
     "data": {
      "text/plain": [
       "<seaborn.axisgrid.FacetGrid at 0x7fe3e9928dc0>"
      ]
     },
     "execution_count": 32,
     "metadata": {},
     "output_type": "execute_result"
    },
    {
     "data": {
      "image/png": "[encoded data removed]",
      "text/plain": [
       "<Figure size 360x360 with 1 Axes>"
      ]
     },
     "metadata": {
      "needs_background": "light"
     },
     "output_type": "display_data"
    }
   ],
   "source": [
    "# Scatterplot: 'host_listings_count' & 'reviews_per_month'\n",
    "\n",
    "sns.lmplot(x = 'host_listings_count', y = 'revs_num', data = bnb)\n"
   ]
  },
  {
   "cell_type": "code",
   "execution_count": 33,
   "id": "4c8f81a6",
   "metadata": {},
   "outputs": [
    {
     "data": {
      "text/plain": [
       "<seaborn.axisgrid.FacetGrid at 0x7fe4016c97c0>"
      ]
     },
     "execution_count": 33,
     "metadata": {},
     "output_type": "execute_result"
    },
    {
     "data": {
      "image/png": "[encoded data removed]",
      "text/plain": [
       "<Figure size 360x360 with 1 Axes>"
      ]
     },
     "metadata": {
      "needs_background": "light"
     },
     "output_type": "display_data"
    }
   ],
   "source": [
    "sns.lmplot(x = 'host_listings_count', y = 'reviews_per_month', data = bnb)"
   ]
  },
  {
   "cell_type": "markdown",
   "id": "5a1fbbd8",
   "metadata": {},
   "source": [
    "#### There's indeed a weak realtionship between these two variables, and there's great degree of variability."
   ]
  },
  {
   "cell_type": "markdown",
   "id": "fae3c3be",
   "metadata": {},
   "source": [
    "## 03.4 Pair Plots for 'bnb_sub'."
   ]
  },
  {
   "cell_type": "code",
   "execution_count": 34,
   "id": "114fe050",
   "metadata": {},
   "outputs": [],
   "source": [
    "# Create subset for 'host_listings_count', 'price', 'reviews_per_month', 'bookings_num'\n",
    "\n",
    "bnb_sub_2 = bnb_sub[['host_listings_count', 'price', 'reviews_per_month', 'bookings_num']]"
   ]
  },
  {
   "cell_type": "code",
   "execution_count": 35,
   "id": "05976000",
   "metadata": {
    "scrolled": false
   },
   "outputs": [
    {
     "data": {
      "image/png": "[encoded data removed]",
      "text/plain": [
       "<Figure size 720x720 with 20 Axes>"
      ]
     },
     "metadata": {
      "needs_background": "light"
     },
     "output_type": "display_data"
    }
   ],
   "source": [
    "# Create pair plots\n",
    "\n",
    "g = sns.pairplot(bnb_sub_2, palette = 'husl')"
   ]
  },
  {
   "cell_type": "markdown",
   "id": "f9ea7da7",
   "metadata": {},
   "source": [
    "#### At simple sight we cansee that there's a weak to medium negative non-linear relationship between the number of listings held by hosts and the number of reviews per month; one might think that the more listings you have, the more reviews you'd receive, but this is not the case as happens that hosts that hold one listing actually have more reviews per month--this is not determinant for teh analysis, but it's a n interesting starting point. \n",
    "\n",
    "#### It also appears that in terms of price a certain degree of competitiveness can be seen as hosts offer their spaces more less in the same ranges despite the number of listings; the number of reviews apparently is affected by other type of factors, like service, for example.\n",
    "\n",
    "#### This plot does not show a strong positive or negative relevant relationship, for which most likely other elements will have to be evaluated, derived or the perspective would have to change to deveal useful information."
   ]
  },
  {
   "cell_type": "markdown",
   "id": "40374795",
   "metadata": {},
   "source": [
    "## 03.4 Categorical Plots for 'bnb'."
   ]
  },
  {
   "cell_type": "code",
   "execution_count": 36,
   "id": "3ea07a66",
   "metadata": {},
   "outputs": [
    {
     "data": {
      "text/plain": [
       "<AxesSubplot:xlabel='host_listings_count', ylabel='Count'>"
      ]
     },
     "execution_count": 36,
     "metadata": {},
     "output_type": "execute_result"
    },
    {
     "data": {
      "image/png": "[encoded data removed]",
      "text/plain": [
       "<Figure size 432x288 with 1 Axes>"
      ]
     },
     "metadata": {
      "needs_background": "light"
     },
     "output_type": "display_data"
    }
   ],
   "source": [
    "# Create histogram\n",
    "\n",
    "sns.histplot(bnb['host_listings_count'], bins = 20, kde = True)"
   ]
  },
  {
   "cell_type": "code",
   "execution_count": 37,
   "id": "cf42a267",
   "metadata": {},
   "outputs": [
    {
     "data": {
      "text/plain": [
       "<AxesSubplot:xlabel='price', ylabel='Count'>"
      ]
     },
     "execution_count": 37,
     "metadata": {},
     "output_type": "execute_result"
    },
    {
     "data": {
      "image/png": "[encoded data removed]",
      "text/plain": [
       "<Figure size 432x288 with 1 Axes>"
      ]
     },
     "metadata": {
      "needs_background": "light"
     },
     "output_type": "display_data"
    }
   ],
   "source": [
    "sns.histplot(bnb['price'], bins = 20, kde = True)"
   ]
  },
  {
   "cell_type": "code",
   "execution_count": 38,
   "id": "eb99ab65",
   "metadata": {},
   "outputs": [
    {
     "data": {
      "text/plain": [
       "<AxesSubplot:xlabel='reviews_per_month', ylabel='Count'>"
      ]
     },
     "execution_count": 38,
     "metadata": {},
     "output_type": "execute_result"
    },
    {
     "data": {
      "image/png": "[encoded data removed]",
      "text/plain": [
       "<Figure size 432x288 with 1 Axes>"
      ]
     },
     "metadata": {
      "needs_background": "light"
     },
     "output_type": "display_data"
    }
   ],
   "source": [
    "sns.histplot(bnb['reviews_per_month'], bins = 20, kde = True)"
   ]
  },
  {
   "cell_type": "code",
   "execution_count": 39,
   "id": "0f5ac4f6",
   "metadata": {},
   "outputs": [
    {
     "data": {
      "text/plain": [
       "<AxesSubplot:xlabel='bookings_num', ylabel='Count'>"
      ]
     },
     "execution_count": 39,
     "metadata": {},
     "output_type": "execute_result"
    },
    {
     "data": {
      "image/png": "[encoded data removed]",
      "text/plain": [
       "<Figure size 432x288 with 1 Axes>"
      ]
     },
     "metadata": {
      "needs_background": "light"
     },
     "output_type": "display_data"
    }
   ],
   "source": [
    "sns.histplot(bnb['bookings_num'], bins = 20, kde = True)"
   ]
  },
  {
   "cell_type": "code",
   "execution_count": 40,
   "id": "34183459",
   "metadata": {},
   "outputs": [
    {
     "data": {
      "text/plain": [
       "<AxesSubplot:xlabel='host_since', ylabel='Count'>"
      ]
     },
     "execution_count": 40,
     "metadata": {},
     "output_type": "execute_result"
    },
    {
     "data": {
      "image/png": "[encoded data removed]",
      "text/plain": [
       "<Figure size 432x288 with 1 Axes>"
      ]
     },
     "metadata": {
      "needs_background": "light"
     },
     "output_type": "display_data"
    }
   ],
   "source": [
    "sns.histplot(bnb['host_since'], bins = 20, kde = True)"
   ]
  },
  {
   "cell_type": "code",
   "execution_count": 41,
   "id": "7abdbd60",
   "metadata": {},
   "outputs": [
    {
     "data": {
      "text/plain": [
       "<AxesSubplot:xlabel='room_type', ylabel='Count'>"
      ]
     },
     "execution_count": 41,
     "metadata": {},
     "output_type": "execute_result"
    },
    {
     "data": {
      "image/png": "[encoded data removed]",
      "text/plain": [
       "<Figure size 432x288 with 1 Axes>"
      ]
     },
     "metadata": {
      "needs_background": "light"
     },
     "output_type": "display_data"
    }
   ],
   "source": [
    "sns.histplot(bnb['room_type'], bins = 20, kde = True)"
   ]
  },
  {
   "cell_type": "code",
   "execution_count": 42,
   "id": "6699013a",
   "metadata": {},
   "outputs": [
    {
     "data": {
      "text/plain": [
       "<AxesSubplot:xlabel='listing_id', ylabel='Count'>"
      ]
     },
     "execution_count": 42,
     "metadata": {},
     "output_type": "execute_result"
    },
    {
     "data": {
      "image/png": "[encoded data removed]",
      "text/plain": [
       "<Figure size 432x288 with 1 Axes>"
      ]
     },
     "metadata": {
      "needs_background": "light"
     },
     "output_type": "display_data"
    }
   ],
   "source": [
    "# Create histogram\n",
    "\n",
    "sns.histplot(bnb['listing_id'], bins = 20, kde = True)"
   ]
  },
  {
   "cell_type": "code",
   "execution_count": 43,
   "id": "7e24bb16",
   "metadata": {},
   "outputs": [
    {
     "data": {
      "image/png": "[encoded data removed]",
      "text/plain": [
       "<Figure size 432x288 with 1 Axes>"
      ]
     },
     "metadata": {
      "needs_background": "light"
     },
     "output_type": "display_data"
    }
   ],
   "source": [
    "# Define 'hist_listings_cnt' figure\n",
    "\n",
    "hist_listings_cnt = sns.histplot(bnb['listing_id'], bins = 20, kde = True)"
   ]
  },
  {
   "cell_type": "code",
   "execution_count": 44,
   "id": "868972cf",
   "metadata": {},
   "outputs": [],
   "source": [
    "# Save 'hist_listings_cnt' figure\n",
    "\n",
    "hist_listings_cnt.figure.savefig(os.path.join(path, '04 Analysis', 'Visualizations', 'hist_listings_cnt.png'))"
   ]
  },
  {
   "cell_type": "markdown",
   "id": "affe748c",
   "metadata": {},
   "source": [
    "#### Consecutive visalizations will be directly defined to be saved"
   ]
  },
  {
   "cell_type": "code",
   "execution_count": 45,
   "id": "3f649985",
   "metadata": {},
   "outputs": [
    {
     "data": {
      "image/png": "[encoded data removed]",
      "text/plain": [
       "<Figure size 432x288 with 1 Axes>"
      ]
     },
     "metadata": {
      "needs_background": "light"
     },
     "output_type": "display_data"
    }
   ],
   "source": [
    "# Create and define histogram\n",
    "\n",
    "hist_hosts_cnt = sns.histplot(bnb['host_id'], bins = 20, kde = True)"
   ]
  },
  {
   "cell_type": "code",
   "execution_count": 46,
   "id": "1cecb82a",
   "metadata": {},
   "outputs": [],
   "source": [
    "# Save 'hist_hosts_cnt' figure\n",
    "\n",
    "hist_hosts_cnt.figure.savefig(os.path.join(path, '04 Analysis', 'Visualizations', 'hist_hosts_cnt.png'))"
   ]
  },
  {
   "cell_type": "code",
   "execution_count": 47,
   "id": "361b31f1",
   "metadata": {},
   "outputs": [
    {
     "data": {
      "image/png": "[encoded data removed]",
      "text/plain": [
       "<Figure size 432x288 with 1 Axes>"
      ]
     },
     "metadata": {
      "needs_background": "light"
     },
     "output_type": "display_data"
    }
   ],
   "source": [
    "# Create and define scatterplot\n",
    "\n",
    "scatt_Xlistings_yhosts = (\n",
    "\n",
    "bnb.plot(x = 'listing_id', y='host_id',style='o'),\n",
    "plt.title('Number of hosts per listing'),  \n",
    "plt.xlabel('Listings ID'),  \n",
    "plt.ylabel('Hosts Count'), \n",
    "plt.show(),\n",
    ")"
   ]
  },
  {
   "cell_type": "code",
   "execution_count": 48,
   "id": "1eeac314",
   "metadata": {},
   "outputs": [
    {
     "data": {
      "text/plain": [
       "(<AxesSubplot:title={'center':'Number of hosts per listing'}, xlabel='Listings ID', ylabel='Hosts Count'>,\n",
       " Text(0.5, 1.0, 'Number of hosts per listing'),\n",
       " Text(0.5, 17.200000000000003, 'Listings ID'),\n",
       " Text(17.200000000000003, 0.5, 'Hosts Count'),\n",
       " None)"
      ]
     },
     "execution_count": 48,
     "metadata": {},
     "output_type": "execute_result"
    }
   ],
   "source": [
    "# Save 'scatt_Xlistings_yhosts' figure\n",
    "\n",
    "scatt_Xlistings_yhosts"
   ]
  },
  {
   "cell_type": "code",
   "execution_count": 49,
   "id": "0e8dc74b",
   "metadata": {},
   "outputs": [
    {
     "data": {
      "image/png": "[encoded data removed]",
      "text/plain": [
       "<Figure size 432x288 with 1 Axes>"
      ]
     },
     "metadata": {
      "needs_background": "light"
     },
     "output_type": "display_data"
    }
   ],
   "source": [
    "bnb.plot(x = 'host_id', y='listing_id',style='o') # The style option creates a scatterplot; without it, we only have lines.\n",
    "plt.title('Number of listings per host')  \n",
    "plt.xlabel('Hosts Count')  \n",
    "plt.ylabel('Listings ID')  \n",
    "plt.show()"
   ]
  },
  {
   "cell_type": "code",
   "execution_count": null,
   "id": "c95e5eb2",
   "metadata": {},
   "outputs": [],
   "source": []
  },
  {
   "cell_type": "markdown",
   "id": "580eec16",
   "metadata": {},
   "source": [
    "#### There's really no determining evidence that supports that the airbnb has diverged from shared-economy model into a business held by privates that's directly impacting the communities in terms of gentrification or (increased) costs."
   ]
  },
  {
   "cell_type": "markdown",
   "id": "356f9fe7",
   "metadata": {},
   "source": [
    "## 04 Notes"
   ]
  },
  {
   "cell_type": "markdown",
   "id": "9dafb029",
   "metadata": {},
   "source": [
    "#### It was believed that more people was making busines out of renting their own or rented spaces, but apparently the majority of people offering spaces through Airbnb's platform, have listed only spaces they own, mainly entire apts. or houses and in second place private rooms within their living spaces. \n",
    "\n",
    "#### Is Airbnb actually fomenting the shared-economy practice in city of dimesnions like Mexico City?"
   ]
  },
  {
   "cell_type": "markdown",
   "id": "4110df93",
   "metadata": {},
   "source": [
    "## Additional EA"
   ]
  },
  {
   "cell_type": "code",
   "execution_count": null,
   "id": "17851981",
   "metadata": {},
   "outputs": [],
   "source": []
  }
 ],
 "metadata": {
  "kernelspec": {
   "display_name": "Python 3 (ipykernel)",
   "language": "python",
   "name": "python3"
  },
  "language_info": {
   "codemirror_mode": {
    "name": "ipython",
    "version": 3
   },
   "file_extension": ".py",
   "mimetype": "text/x-python",
   "name": "python",
   "nbconvert_exporter": "python",
   "pygments_lexer": "ipython3",
   "version": "3.9.12"
  }
 },
 "nbformat": 4,
 "nbformat_minor": 5
}
