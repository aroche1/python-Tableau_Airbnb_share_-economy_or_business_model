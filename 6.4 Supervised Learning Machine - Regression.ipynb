{
 "cells": [
  {
   "cell_type": "markdown",
   "id": "571ab822",
   "metadata": {},
   "source": [
    "# 01 Importing Libraries & Data"
   ]
  },
  {
   "cell_type": "markdown",
   "id": "56cc2446",
   "metadata": {},
   "source": [
    "## 01.1 Importing Libraries"
   ]
  },
  {
   "cell_type": "code",
   "execution_count": 1,
   "id": "ca368031",
   "metadata": {},
   "outputs": [],
   "source": [
    "import pandas as pd\n",
    "import numpy as np\n",
    "import seaborn as sns\n",
    "import matplotlib\n",
    "import matplotlib.pyplot as plt\n",
    "import os\n",
    "import sklearn\n",
    "from sklearn.model_selection import train_test_split\n",
    "from sklearn.linear_model import LinearRegression\n",
    "from sklearn.metrics import mean_squared_error, r2_score"
   ]
  },
  {
   "cell_type": "code",
   "execution_count": 2,
   "id": "e61be6c2",
   "metadata": {},
   "outputs": [],
   "source": [
    "# Ensure created graphs are displayed\n",
    "\n",
    "%matplotlib inline"
   ]
  },
  {
   "cell_type": "markdown",
   "id": "7cb9c214",
   "metadata": {},
   "source": [
    "## 01.2 Importing Data"
   ]
  },
  {
   "cell_type": "code",
   "execution_count": 3,
   "id": "68931de9",
   "metadata": {},
   "outputs": [],
   "source": [
    "# Create path\n",
    "\n",
    "path = r'/Users/david/Desktop/CF/Data Immersion/Achievement 6 - Advnaced Analytics & Dashboard Design'"
   ]
  },
  {
   "cell_type": "code",
   "execution_count": 4,
   "id": "bd79c321",
   "metadata": {},
   "outputs": [
    {
     "data": {
      "text/plain": [
       "'/Users/david/Desktop/CF/Data Immersion/Achievement 6 - Advnaced Analytics & Dashboard Design'"
      ]
     },
     "execution_count": 4,
     "metadata": {},
     "output_type": "execute_result"
    }
   ],
   "source": [
    "# Verify path\n",
    "\n",
    "path"
   ]
  },
  {
   "cell_type": "code",
   "execution_count": 5,
   "id": "82c705f3",
   "metadata": {},
   "outputs": [],
   "source": [
    "# Import 'bnb_cdmx_080922.pkl'\n",
    "\n",
    "bnb_MC = pd.read_pickle(os.path.join(path, '02 Data', 'Prepared Data', '09_Sep_2022', 'bnb_cdmx_080922.pkl'))"
   ]
  },
  {
   "cell_type": "markdown",
   "id": "13112a60",
   "metadata": {},
   "source": [
    "# 02. Data Cleaning"
   ]
  },
  {
   "cell_type": "markdown",
   "id": "f294011e",
   "metadata": {},
   "source": [
    "#### Reflect the changes made in the last exercise--locations were added up, and those variables must be addressed: 'host_loc"
   ]
  },
  {
   "cell_type": "code",
   "execution_count": 6,
   "id": "03c5d42f",
   "metadata": {},
   "outputs": [
    {
     "data": {
      "text/plain": [
       "['listing_id',\n",
       " 'listing_url',\n",
       " 'host_id',\n",
       " 'host_url',\n",
       " 'host_name',\n",
       " 'host_since',\n",
       " 'acceptance_rate',\n",
       " 'superhost',\n",
       " 'host_listings_count',\n",
       " 'host_identity_verified',\n",
       " 'latitude',\n",
       " 'longitude',\n",
       " 'room_type',\n",
       " 'accommodates',\n",
       " 'bedrooms',\n",
       " 'price',\n",
       " 'min_nights',\n",
       " 'max_nights',\n",
       " 'has_availability',\n",
       " 'availability_365',\n",
       " 'revs_num',\n",
       " 'first_rev',\n",
       " 'last_rev',\n",
       " 'review_scores_rating',\n",
       " 'reviews_per_month',\n",
       " 'bookings_num',\n",
       " 'host_loc',\n",
       " 'host_nh',\n",
       " 'nh',\n",
       " 'nh_cleansed']"
      ]
     },
     "execution_count": 6,
     "metadata": {},
     "output_type": "execute_result"
    }
   ],
   "source": [
    "# List 'bnb_MC' columns\n",
    "\n",
    "list(bnb_MC.columns)"
   ]
  },
  {
   "cell_type": "markdown",
   "id": "48aa5304",
   "metadata": {},
   "source": [
    "## 02.1 Drop columns"
   ]
  },
  {
   "cell_type": "code",
   "execution_count": 7,
   "id": "455d72d7",
   "metadata": {},
   "outputs": [],
   "source": [
    "# Drop url columns\n",
    "\n",
    "bnb_MC = bnb_MC.drop(columns = ['listing_url', 'host_url', 'host_loc', 'host_nh', 'nh'])"
   ]
  },
  {
   "cell_type": "code",
   "execution_count": 8,
   "id": "afeca78c",
   "metadata": {},
   "outputs": [
    {
     "data": {
      "text/plain": [
       "['listing_id',\n",
       " 'host_id',\n",
       " 'host_name',\n",
       " 'host_since',\n",
       " 'acceptance_rate',\n",
       " 'superhost',\n",
       " 'host_listings_count',\n",
       " 'host_identity_verified',\n",
       " 'latitude',\n",
       " 'longitude',\n",
       " 'room_type',\n",
       " 'accommodates',\n",
       " 'bedrooms',\n",
       " 'price',\n",
       " 'min_nights',\n",
       " 'max_nights',\n",
       " 'has_availability',\n",
       " 'availability_365',\n",
       " 'revs_num',\n",
       " 'first_rev',\n",
       " 'last_rev',\n",
       " 'review_scores_rating',\n",
       " 'reviews_per_month',\n",
       " 'bookings_num',\n",
       " 'nh_cleansed']"
      ]
     },
     "execution_count": 8,
     "metadata": {},
     "output_type": "execute_result"
    }
   ],
   "source": [
    "# Verify columns\n",
    "\n",
    "list(bnb_MC.columns)"
   ]
  },
  {
   "cell_type": "code",
   "execution_count": 9,
   "id": "466dde3c",
   "metadata": {},
   "outputs": [
    {
     "data": {
      "text/html": [
       "<div>\n",
       "<style scoped>\n",
       "    .dataframe tbody tr th:only-of-type {\n",
       "        vertical-align: middle;\n",
       "    }\n",
       "\n",
       "    .dataframe tbody tr th {\n",
       "        vertical-align: top;\n",
       "    }\n",
       "\n",
       "    .dataframe thead th {\n",
       "        text-align: right;\n",
       "    }\n",
       "</style>\n",
       "<table border=\"1\" class=\"dataframe\">\n",
       "  <thead>\n",
       "    <tr style=\"text-align: right;\">\n",
       "      <th></th>\n",
       "      <th>listing_id</th>\n",
       "      <th>host_id</th>\n",
       "      <th>host_name</th>\n",
       "      <th>host_since</th>\n",
       "      <th>acceptance_rate</th>\n",
       "      <th>superhost</th>\n",
       "      <th>host_listings_count</th>\n",
       "      <th>host_identity_verified</th>\n",
       "      <th>latitude</th>\n",
       "      <th>longitude</th>\n",
       "      <th>...</th>\n",
       "      <th>max_nights</th>\n",
       "      <th>has_availability</th>\n",
       "      <th>availability_365</th>\n",
       "      <th>revs_num</th>\n",
       "      <th>first_rev</th>\n",
       "      <th>last_rev</th>\n",
       "      <th>review_scores_rating</th>\n",
       "      <th>reviews_per_month</th>\n",
       "      <th>bookings_num</th>\n",
       "      <th>nh_cleansed</th>\n",
       "    </tr>\n",
       "  </thead>\n",
       "  <tbody>\n",
       "    <tr>\n",
       "      <th>0</th>\n",
       "      <td>15511977</td>\n",
       "      <td>93364273</td>\n",
       "      <td>Abraham</td>\n",
       "      <td>2016-09-03</td>\n",
       "      <td>NaN</td>\n",
       "      <td>f</td>\n",
       "      <td>2</td>\n",
       "      <td>f</td>\n",
       "      <td>19.41095</td>\n",
       "      <td>-99.24418</td>\n",
       "      <td>...</td>\n",
       "      <td>1125</td>\n",
       "      <td>t</td>\n",
       "      <td>179</td>\n",
       "      <td>1</td>\n",
       "      <td>2018-03-19</td>\n",
       "      <td>2018-03-19</td>\n",
       "      <td>5.00</td>\n",
       "      <td>0.02</td>\n",
       "      <td>365</td>\n",
       "      <td>Miguel Hidalgo</td>\n",
       "    </tr>\n",
       "    <tr>\n",
       "      <th>1</th>\n",
       "      <td>44616</td>\n",
       "      <td>196253</td>\n",
       "      <td>Condesa Haus Bed &amp; Breakfast  CDMX</td>\n",
       "      <td>2010-08-09</td>\n",
       "      <td>66</td>\n",
       "      <td>f</td>\n",
       "      <td>9</td>\n",
       "      <td>t</td>\n",
       "      <td>19.41162</td>\n",
       "      <td>-99.17794</td>\n",
       "      <td>...</td>\n",
       "      <td>365</td>\n",
       "      <td>t</td>\n",
       "      <td>347</td>\n",
       "      <td>56</td>\n",
       "      <td>2011-11-09</td>\n",
       "      <td>2022-06-05</td>\n",
       "      <td>4.59</td>\n",
       "      <td>0.43</td>\n",
       "      <td>365</td>\n",
       "      <td>Cuauhtémoc</td>\n",
       "    </tr>\n",
       "    <tr>\n",
       "      <th>2</th>\n",
       "      <td>34776449</td>\n",
       "      <td>2954577</td>\n",
       "      <td>Lazaro Alejandro</td>\n",
       "      <td>2012-07-16</td>\n",
       "      <td>100</td>\n",
       "      <td>t</td>\n",
       "      <td>3</td>\n",
       "      <td>t</td>\n",
       "      <td>19.42641</td>\n",
       "      <td>-99.22591</td>\n",
       "      <td>...</td>\n",
       "      <td>30</td>\n",
       "      <td>t</td>\n",
       "      <td>222</td>\n",
       "      <td>5</td>\n",
       "      <td>2019-07-04</td>\n",
       "      <td>2022-03-14</td>\n",
       "      <td>5.00</td>\n",
       "      <td>0.14</td>\n",
       "      <td>365</td>\n",
       "      <td>Miguel Hidalgo</td>\n",
       "    </tr>\n",
       "    <tr>\n",
       "      <th>3</th>\n",
       "      <td>56074</td>\n",
       "      <td>265650</td>\n",
       "      <td>Maris</td>\n",
       "      <td>2010-10-19</td>\n",
       "      <td>90</td>\n",
       "      <td>t</td>\n",
       "      <td>2</td>\n",
       "      <td>t</td>\n",
       "      <td>19.43977</td>\n",
       "      <td>-99.15605</td>\n",
       "      <td>...</td>\n",
       "      <td>250</td>\n",
       "      <td>t</td>\n",
       "      <td>344</td>\n",
       "      <td>72</td>\n",
       "      <td>2011-04-02</td>\n",
       "      <td>2022-06-19</td>\n",
       "      <td>4.88</td>\n",
       "      <td>0.53</td>\n",
       "      <td>365</td>\n",
       "      <td>Cuauhtémoc</td>\n",
       "    </tr>\n",
       "    <tr>\n",
       "      <th>4</th>\n",
       "      <td>58955</td>\n",
       "      <td>282620</td>\n",
       "      <td>Laura</td>\n",
       "      <td>2010-11-09</td>\n",
       "      <td>29</td>\n",
       "      <td>f</td>\n",
       "      <td>1</td>\n",
       "      <td>t</td>\n",
       "      <td>19.42113</td>\n",
       "      <td>-99.15955</td>\n",
       "      <td>...</td>\n",
       "      <td>60</td>\n",
       "      <td>t</td>\n",
       "      <td>47</td>\n",
       "      <td>45</td>\n",
       "      <td>2011-12-26</td>\n",
       "      <td>2022-01-06</td>\n",
       "      <td>5.00</td>\n",
       "      <td>0.35</td>\n",
       "      <td>365</td>\n",
       "      <td>Cuauhtémoc</td>\n",
       "    </tr>\n",
       "  </tbody>\n",
       "</table>\n",
       "<p>5 rows × 25 columns</p>\n",
       "</div>"
      ],
      "text/plain": [
       "   listing_id   host_id                           host_name  host_since  \\\n",
       "0    15511977  93364273                             Abraham  2016-09-03   \n",
       "1       44616    196253  Condesa Haus Bed & Breakfast  CDMX  2010-08-09   \n",
       "2    34776449   2954577                    Lazaro Alejandro  2012-07-16   \n",
       "3       56074    265650                               Maris  2010-10-19   \n",
       "4       58955    282620                               Laura  2010-11-09   \n",
       "\n",
       "  acceptance_rate superhost  host_listings_count host_identity_verified  \\\n",
       "0             NaN         f                    2                      f   \n",
       "1              66         f                    9                      t   \n",
       "2             100         t                    3                      t   \n",
       "3              90         t                    2                      t   \n",
       "4              29         f                    1                      t   \n",
       "\n",
       "   latitude  longitude  ... max_nights  has_availability  availability_365  \\\n",
       "0  19.41095  -99.24418  ...       1125                 t               179   \n",
       "1  19.41162  -99.17794  ...        365                 t               347   \n",
       "2  19.42641  -99.22591  ...         30                 t               222   \n",
       "3  19.43977  -99.15605  ...        250                 t               344   \n",
       "4  19.42113  -99.15955  ...         60                 t                47   \n",
       "\n",
       "   revs_num   first_rev    last_rev review_scores_rating  reviews_per_month  \\\n",
       "0         1  2018-03-19  2018-03-19                 5.00               0.02   \n",
       "1        56  2011-11-09  2022-06-05                 4.59               0.43   \n",
       "2         5  2019-07-04  2022-03-14                 5.00               0.14   \n",
       "3        72  2011-04-02  2022-06-19                 4.88               0.53   \n",
       "4        45  2011-12-26  2022-01-06                 5.00               0.35   \n",
       "\n",
       "   bookings_num     nh_cleansed  \n",
       "0           365  Miguel Hidalgo  \n",
       "1           365      Cuauhtémoc  \n",
       "2           365  Miguel Hidalgo  \n",
       "3           365      Cuauhtémoc  \n",
       "4           365      Cuauhtémoc  \n",
       "\n",
       "[5 rows x 25 columns]"
      ]
     },
     "execution_count": 9,
     "metadata": {},
     "output_type": "execute_result"
    }
   ],
   "source": []
  },
  {
   "cell_type": "code",
   "execution_count": 10,
   "id": "de826e2a",
   "metadata": {},
   "outputs": [
    {
     "data": {
      "text/plain": [
       "(17679, 25)"
      ]
     },
     "execution_count": 10,
     "metadata": {},
     "output_type": "execute_result"
    }
   ],
   "source": [
    "bnb_MC.shape"
   ]
  },
  {
   "cell_type": "code",
   "execution_count": 79,
   "id": "9265a7ae",
   "metadata": {},
   "outputs": [
    {
     "data": {
      "text/plain": [
       "17679"
      ]
     },
     "execution_count": 79,
     "metadata": {},
     "output_type": "execute_result"
    }
   ],
   "source": [
    "len(bnb_MC.listing_id.unique())"
   ]
  },
  {
   "cell_type": "code",
   "execution_count": 80,
   "id": "651b8dad",
   "metadata": {},
   "outputs": [
    {
     "data": {
      "text/plain": [
       "8893"
      ]
     },
     "execution_count": 80,
     "metadata": {},
     "output_type": "execute_result"
    }
   ],
   "source": [
    "len(bnb_MC.host_id.unique())"
   ]
  },
  {
   "cell_type": "code",
   "execution_count": null,
   "id": "071e940d",
   "metadata": {},
   "outputs": [],
   "source": []
  },
  {
   "cell_type": "markdown",
   "id": "cfeccb08",
   "metadata": {},
   "source": [
    "## 02.2 Missing values"
   ]
  },
  {
   "cell_type": "code",
   "execution_count": 11,
   "id": "f3c14406",
   "metadata": {},
   "outputs": [
    {
     "data": {
      "text/plain": [
       "listing_id                   0\n",
       "host_id                      0\n",
       "host_name                    0\n",
       "host_since                   0\n",
       "acceptance_rate           1100\n",
       "superhost                    0\n",
       "host_listings_count          0\n",
       "host_identity_verified       0\n",
       "latitude                     0\n",
       "longitude                    0\n",
       "room_type                    0\n",
       "accommodates                 0\n",
       "bedrooms                   450\n",
       "price                        0\n",
       "min_nights                   0\n",
       "max_nights                   0\n",
       "has_availability             0\n",
       "availability_365             0\n",
       "revs_num                     0\n",
       "first_rev                    0\n",
       "last_rev                     0\n",
       "review_scores_rating         0\n",
       "reviews_per_month            0\n",
       "bookings_num                 0\n",
       "nh_cleansed                  0\n",
       "dtype: int64"
      ]
     },
     "execution_count": 11,
     "metadata": {},
     "output_type": "execute_result"
    }
   ],
   "source": [
    "# Check missing values\n",
    "\n",
    "bnb_MC.isnull().sum()"
   ]
  },
  {
   "cell_type": "markdown",
   "id": "a0033993",
   "metadata": {},
   "source": [
    "#### The missing values in 'acceptance_rate' and 'bedrooms' will be left as they are since 'acceptance_rate' may indicate the host is not active and 'bedrooms' will be looked into it to support this belief."
   ]
  },
  {
   "cell_type": "markdown",
   "id": "73781a79",
   "metadata": {},
   "source": [
    "## 02.3 Duplicates"
   ]
  },
  {
   "cell_type": "code",
   "execution_count": 12,
   "id": "3d8a239d",
   "metadata": {},
   "outputs": [],
   "source": [
    "bnb_MC_dups = bnb_MC.duplicated()"
   ]
  },
  {
   "cell_type": "code",
   "execution_count": 13,
   "id": "3264eb1b",
   "metadata": {},
   "outputs": [
    {
     "data": {
      "text/plain": [
       "(17679,)"
      ]
     },
     "execution_count": 13,
     "metadata": {},
     "output_type": "execute_result"
    }
   ],
   "source": [
    "bnb_MC_dups.shape"
   ]
  },
  {
   "cell_type": "markdown",
   "id": "ad6de99e",
   "metadata": {},
   "source": [
    "#### No dups."
   ]
  },
  {
   "cell_type": "markdown",
   "id": "c1f2c95b",
   "metadata": {},
   "source": [
    "## 02.4 Extreme values"
   ]
  },
  {
   "cell_type": "code",
   "execution_count": 14,
   "id": "3ec30e3c",
   "metadata": {},
   "outputs": [
    {
     "name": "stderr",
     "output_type": "stream",
     "text": [
      "/Users/david/opt/anaconda3/lib/python3.9/site-packages/seaborn/distributions.py:2619: FutureWarning: `distplot` is a deprecated function and will be removed in a future version. Please adapt your code to use either `displot` (a figure-level function with similar flexibility) or `histplot` (an axes-level function for histograms).\n",
      "  warnings.warn(msg, FutureWarning)\n"
     ]
    },
    {
     "data": {
      "text/plain": [
       "<AxesSubplot:xlabel='host_listings_count', ylabel='Density'>"
      ]
     },
     "execution_count": 14,
     "metadata": {},
     "output_type": "execute_result"
    },
    {
     "data": {
      "image/png": "[encoded data removed]",
      "text/plain": [
       "<Figure size 432x288 with 1 Axes>"
      ]
     },
     "metadata": {
      "needs_background": "light"
     },
     "output_type": "display_data"
    }
   ],
   "source": [
    "# Check for extreme values\n",
    "\n",
    "sns.distplot(bnb_MC['host_listings_count'], bins = 25)"
   ]
  },
  {
   "cell_type": "code",
   "execution_count": 15,
   "id": "9e5be555",
   "metadata": {},
   "outputs": [
    {
     "data": {
      "text/plain": [
       "15.656937609593303"
      ]
     },
     "execution_count": 15,
     "metadata": {},
     "output_type": "execute_result"
    }
   ],
   "source": [
    "# Check mean\n",
    "\n",
    "bnb_MC['host_listings_count'].mean()"
   ]
  },
  {
   "cell_type": "code",
   "execution_count": 16,
   "id": "b66a468a",
   "metadata": {},
   "outputs": [
    {
     "data": {
      "text/plain": [
       "2.0"
      ]
     },
     "execution_count": 16,
     "metadata": {},
     "output_type": "execute_result"
    }
   ],
   "source": [
    "# Check median\n",
    "\n",
    "bnb_MC['host_listings_count'].median()"
   ]
  },
  {
   "cell_type": "code",
   "execution_count": 17,
   "id": "14f50b44",
   "metadata": {},
   "outputs": [
    {
     "data": {
      "text/plain": [
       "436"
      ]
     },
     "execution_count": 17,
     "metadata": {},
     "output_type": "execute_result"
    }
   ],
   "source": [
    "# Check max \n",
    "\n",
    "bnb_MC['host_listings_count'].max()"
   ]
  },
  {
   "cell_type": "code",
   "execution_count": 18,
   "id": "8079b7f9",
   "metadata": {},
   "outputs": [
    {
     "name": "stderr",
     "output_type": "stream",
     "text": [
      "/Users/david/opt/anaconda3/lib/python3.9/site-packages/seaborn/distributions.py:2619: FutureWarning: `distplot` is a deprecated function and will be removed in a future version. Please adapt your code to use either `displot` (a figure-level function with similar flexibility) or `histplot` (an axes-level function for histograms).\n",
      "  warnings.warn(msg, FutureWarning)\n"
     ]
    },
    {
     "data": {
      "text/plain": [
       "<AxesSubplot:xlabel='listing_id', ylabel='Density'>"
      ]
     },
     "execution_count": 18,
     "metadata": {},
     "output_type": "execute_result"
    },
    {
     "data": {
      "image/png": "[encoded data removed]",
      "text/plain": [
       "<Figure size 432x288 with 1 Axes>"
      ]
     },
     "metadata": {
      "needs_background": "light"
     },
     "output_type": "display_data"
    }
   ],
   "source": [
    "sns.distplot(bnb_MC['listing_id'], bins = 25)"
   ]
  },
  {
   "cell_type": "code",
   "execution_count": 21,
   "id": "03778449",
   "metadata": {},
   "outputs": [
    {
     "data": {
      "text/html": [
       "<div>\n",
       "<style scoped>\n",
       "    .dataframe tbody tr th:only-of-type {\n",
       "        vertical-align: middle;\n",
       "    }\n",
       "\n",
       "    .dataframe tbody tr th {\n",
       "        vertical-align: top;\n",
       "    }\n",
       "\n",
       "    .dataframe thead tr th {\n",
       "        text-align: left;\n",
       "    }\n",
       "\n",
       "    .dataframe thead tr:last-of-type th {\n",
       "        text-align: right;\n",
       "    }\n",
       "</style>\n",
       "<table border=\"1\" class=\"dataframe\">\n",
       "  <thead>\n",
       "    <tr>\n",
       "      <th></th>\n",
       "      <th>host_id</th>\n",
       "    </tr>\n",
       "    <tr>\n",
       "      <th></th>\n",
       "      <th>count</th>\n",
       "    </tr>\n",
       "    <tr>\n",
       "      <th>host_id</th>\n",
       "      <th></th>\n",
       "    </tr>\n",
       "  </thead>\n",
       "  <tbody>\n",
       "    <tr>\n",
       "      <th>7365</th>\n",
       "      <td>1</td>\n",
       "    </tr>\n",
       "    <tr>\n",
       "      <th>36836</th>\n",
       "      <td>1</td>\n",
       "    </tr>\n",
       "    <tr>\n",
       "      <th>50129</th>\n",
       "      <td>1</td>\n",
       "    </tr>\n",
       "    <tr>\n",
       "      <th>60079</th>\n",
       "      <td>1</td>\n",
       "    </tr>\n",
       "    <tr>\n",
       "      <th>64092</th>\n",
       "      <td>1</td>\n",
       "    </tr>\n",
       "    <tr>\n",
       "      <th>...</th>\n",
       "      <td>...</td>\n",
       "    </tr>\n",
       "    <tr>\n",
       "      <th>462791315</th>\n",
       "      <td>1</td>\n",
       "    </tr>\n",
       "    <tr>\n",
       "      <th>462890557</th>\n",
       "      <td>1</td>\n",
       "    </tr>\n",
       "    <tr>\n",
       "      <th>463117863</th>\n",
       "      <td>1</td>\n",
       "    </tr>\n",
       "    <tr>\n",
       "      <th>463235959</th>\n",
       "      <td>1</td>\n",
       "    </tr>\n",
       "    <tr>\n",
       "      <th>464101318</th>\n",
       "      <td>1</td>\n",
       "    </tr>\n",
       "  </tbody>\n",
       "</table>\n",
       "<p>8893 rows × 1 columns</p>\n",
       "</div>"
      ],
      "text/plain": [
       "          host_id\n",
       "            count\n",
       "host_id          \n",
       "7365            1\n",
       "36836           1\n",
       "50129           1\n",
       "60079           1\n",
       "64092           1\n",
       "...           ...\n",
       "462791315       1\n",
       "462890557       1\n",
       "463117863       1\n",
       "463235959       1\n",
       "464101318       1\n",
       "\n",
       "[8893 rows x 1 columns]"
      ]
     },
     "execution_count": 21,
     "metadata": {},
     "output_type": "execute_result"
    }
   ],
   "source": [
    "# Check 'host_id' count\n",
    "\n",
    "bnb_MC.groupby('host_id').agg({'host_id': ['count']})"
   ]
  },
  {
   "cell_type": "code",
   "execution_count": 23,
   "id": "33c50d6b",
   "metadata": {},
   "outputs": [
    {
     "data": {
      "text/plain": [
       "host_id  count    1.987968\n",
       "dtype: float64"
      ]
     },
     "execution_count": 23,
     "metadata": {},
     "output_type": "execute_result"
    }
   ],
   "source": [
    "# Check 'host_id' mean\n",
    "\n",
    "bnb_MC.groupby('host_id').agg({'host_id': ['count']}).mean()"
   ]
  },
  {
   "cell_type": "code",
   "execution_count": 25,
   "id": "b46c7fb9",
   "metadata": {},
   "outputs": [
    {
     "data": {
      "text/plain": [
       "host_id  count    1.0\n",
       "dtype: float64"
      ]
     },
     "execution_count": 25,
     "metadata": {},
     "output_type": "execute_result"
    }
   ],
   "source": [
    "# Check 'host_id' median\n",
    "\n",
    "bnb_MC.groupby('host_id').agg({'host_id': ['count']}).median()"
   ]
  },
  {
   "cell_type": "code",
   "execution_count": 26,
   "id": "6e73d3ac",
   "metadata": {},
   "outputs": [
    {
     "data": {
      "text/plain": [
       "host_id  count    126\n",
       "dtype: int64"
      ]
     },
     "execution_count": 26,
     "metadata": {},
     "output_type": "execute_result"
    }
   ],
   "source": [
    "# Check 'host_id' max\n",
    "\n",
    "bnb_MC.groupby('host_id').agg({'host_id': ['count']}).max()"
   ]
  },
  {
   "cell_type": "code",
   "execution_count": 34,
   "id": "9cb549f6",
   "metadata": {},
   "outputs": [],
   "source": [
    "# Define 'host_id' count\n",
    "\n",
    "host_id_cnt = bnb_MC.groupby('host_id').agg({'host_id': ['count']})"
   ]
  },
  {
   "cell_type": "code",
   "execution_count": null,
   "id": "88fb0d92",
   "metadata": {},
   "outputs": [],
   "source": [
    "# Create a new variable with the number of times a host repeats its listings\n",
    "\n",
    "bnb_MC['host_id_cnts'] = bnb_MC.groupby(['host_id'])['host_id'].transform(np.max)"
   ]
  },
  {
   "cell_type": "code",
   "execution_count": null,
   "id": "9061f4e9",
   "metadata": {},
   "outputs": [],
   "source": []
  },
  {
   "cell_type": "code",
   "execution_count": null,
   "id": "7ed4a1ad",
   "metadata": {},
   "outputs": [],
   "source": []
  },
  {
   "cell_type": "code",
   "execution_count": null,
   "id": "104947d8",
   "metadata": {},
   "outputs": [],
   "source": []
  },
  {
   "cell_type": "code",
   "execution_count": null,
   "id": "3a4327ed",
   "metadata": {},
   "outputs": [],
   "source": []
  },
  {
   "cell_type": "code",
   "execution_count": null,
   "id": "1ff0729b",
   "metadata": {},
   "outputs": [],
   "source": []
  },
  {
   "cell_type": "code",
   "execution_count": null,
   "id": "a02030ae",
   "metadata": {},
   "outputs": [],
   "source": []
  },
  {
   "cell_type": "code",
   "execution_count": null,
   "id": "278e3f43",
   "metadata": {},
   "outputs": [],
   "source": []
  },
  {
   "cell_type": "code",
   "execution_count": null,
   "id": "b3e1e6e9",
   "metadata": {},
   "outputs": [],
   "source": []
  },
  {
   "cell_type": "code",
   "execution_count": null,
   "id": "c8cb981a",
   "metadata": {},
   "outputs": [],
   "source": []
  },
  {
   "cell_type": "code",
   "execution_count": null,
   "id": "fbd44848",
   "metadata": {},
   "outputs": [],
   "source": []
  },
  {
   "cell_type": "code",
   "execution_count": null,
   "id": "098539f7",
   "metadata": {},
   "outputs": [],
   "source": []
  },
  {
   "cell_type": "code",
   "execution_count": null,
   "id": "857952c8",
   "metadata": {},
   "outputs": [],
   "source": []
  },
  {
   "cell_type": "code",
   "execution_count": null,
   "id": "0630f850",
   "metadata": {},
   "outputs": [],
   "source": []
  },
  {
   "cell_type": "code",
   "execution_count": null,
   "id": "5528b074",
   "metadata": {},
   "outputs": [],
   "source": []
  },
  {
   "cell_type": "code",
   "execution_count": null,
   "id": "5ee4fbd6",
   "metadata": {},
   "outputs": [],
   "source": []
  },
  {
   "cell_type": "code",
   "execution_count": null,
   "id": "948db718",
   "metadata": {},
   "outputs": [],
   "source": []
  },
  {
   "cell_type": "code",
   "execution_count": null,
   "id": "68ab794b",
   "metadata": {},
   "outputs": [],
   "source": []
  },
  {
   "cell_type": "markdown",
   "id": "c9d5c672",
   "metadata": {},
   "source": [
    "#  03 Data Prep for Regression Analysis"
   ]
  },
  {
   "cell_type": "code",
   "execution_count": 83,
   "id": "7f1a9eed",
   "metadata": {},
   "outputs": [
    {
     "data": {
      "text/plain": [
       "<function matplotlib.pyplot.show(close=None, block=None)>"
      ]
     },
     "execution_count": 83,
     "metadata": {},
     "output_type": "execute_result"
    },
    {
     "data": {
      "image/png": "[encoded data removed]",
      "text/plain": [
       "<Figure size 432x288 with 1 Axes>"
      ]
     },
     "metadata": {
      "needs_background": "light"
     },
     "output_type": "display_data"
    }
   ],
   "source": [
    "# Create scatterplot for relevant variables\n",
    "\n",
    "bnb_MC.plot(x = 'price', y = 'revs_num', style = 'o')\n",
    "plt.title('price/reviews_num')\n",
    "plt.xlabel('price')\n",
    "plt.ylabel('reviews_num')\n",
    "plt.show"
   ]
  },
  {
   "cell_type": "code",
   "execution_count": 86,
   "id": "9d6a3f54",
   "metadata": {},
   "outputs": [
    {
     "data": {
      "text/plain": [
       "<function matplotlib.pyplot.show(close=None, block=None)>"
      ]
     },
     "execution_count": 86,
     "metadata": {},
     "output_type": "execute_result"
    },
    {
     "data": {
      "image/png": "[encoded data removed]",
      "text/plain": [
       "<Figure size 432x288 with 1 Axes>"
      ]
     },
     "metadata": {
      "needs_background": "light"
     },
     "output_type": "display_data"
    }
   ],
   "source": [
    "# Create scatterplot for relevant variables\n",
    "\n",
    "bnb_MC.plot(x = 'price', y = 'reviews_per_month', style = 'o')\n",
    "plt.title('price/reviews_per_month')\n",
    "plt.xlabel('price')\n",
    "plt.ylabel('reviews_per_month')\n",
    "plt.show"
   ]
  },
  {
   "cell_type": "markdown",
   "id": "a929ae1a",
   "metadata": {},
   "source": [
    "# 04 Running the Regression Analysis"
   ]
  },
  {
   "cell_type": "code",
   "execution_count": 87,
   "id": "e7986efe",
   "metadata": {},
   "outputs": [],
   "source": [
    "# Reshape variables into NumPy arrays\n",
    "\n",
    "X = bnb_MC['price'].values.reshape(-1, 1)\n",
    "y = bnb_MC['revs_num'].values.reshape(-1, 1)"
   ]
  },
  {
   "cell_type": "code",
   "execution_count": 88,
   "id": "01496b38",
   "metadata": {},
   "outputs": [
    {
     "data": {
      "text/plain": [
       "array([[  800],\n",
       "       [18000],\n",
       "       [ 1779],\n",
       "       ...,\n",
       "       [  897],\n",
       "       [  230],\n",
       "       [ 3228]])"
      ]
     },
     "execution_count": 88,
     "metadata": {},
     "output_type": "execute_result"
    }
   ],
   "source": [
    "X"
   ]
  },
  {
   "cell_type": "code",
   "execution_count": 89,
   "id": "087ad58f",
   "metadata": {},
   "outputs": [
    {
     "data": {
      "text/plain": [
       "array([[  1],\n",
       "       [ 56],\n",
       "       [  5],\n",
       "       ...,\n",
       "       [107],\n",
       "       [  5],\n",
       "       [ 58]])"
      ]
     },
     "execution_count": 89,
     "metadata": {},
     "output_type": "execute_result"
    }
   ],
   "source": [
    "y"
   ]
  },
  {
   "cell_type": "code",
   "execution_count": 90,
   "id": "5f887a76",
   "metadata": {},
   "outputs": [],
   "source": [
    "# Split dat ainto a training data set\n",
    "\n",
    "X_train, X_test, y_train, y_test = train_test_split(X, y, test_size=0.3, random_state=0)"
   ]
  },
  {
   "cell_type": "code",
   "execution_count": 91,
   "id": "ae573880",
   "metadata": {},
   "outputs": [],
   "source": [
    "# Create a regression object\n",
    "\n",
    "regression = LinearRegression()"
   ]
  },
  {
   "cell_type": "code",
   "execution_count": 92,
   "id": "0270aacd",
   "metadata": {},
   "outputs": [
    {
     "data": {
      "text/plain": [
       "LinearRegression()"
      ]
     },
     "execution_count": 92,
     "metadata": {},
     "output_type": "execute_result"
    }
   ],
   "source": [
    "# Fit the regression object onto training set\n",
    "\n",
    "regression.fit(X_train, y_train)"
   ]
  },
  {
   "cell_type": "code",
   "execution_count": 93,
   "id": "fca7ff02",
   "metadata": {},
   "outputs": [],
   "source": [
    "# Predict the values of y using X\n",
    "\n",
    "y_predicted = regression.predict(X_test)"
   ]
  },
  {
   "cell_type": "code",
   "execution_count": 94,
   "id": "8d4064f4",
   "metadata": {},
   "outputs": [
    {
     "data": {
      "image/png": "[encoded data removed]",
      "text/plain": [
       "<Figure size 432x288 with 1 Axes>"
      ]
     },
     "metadata": {
      "needs_background": "light"
     },
     "output_type": "display_data"
    }
   ],
   "source": [
    "# Create a plot showing teh regression line from the model on the test set\n",
    "\n",
    "plot_test = plt\n",
    "plot_test.scatter(X_test, y_test, color = 'blue', s = 15)\n",
    "plot_test.plot(X_test, y_predicted, color = 'green', linewidth = 3)\n",
    "plot_test.title('HLTC/HID')\n",
    "plot_test.xlabel('price')\n",
    "plot_test.ylabel('reviews_per_month')\n",
    "plot_test.show()"
   ]
  },
  {
   "cell_type": "markdown",
   "id": "73286088",
   "metadata": {},
   "source": [
    "#### The intention was to corroborate if the higher the price, the less reviews a listing would have, but this model doesn't really tells anythion about this.\n",
    "\n",
    "#### You'll clearly see that most of the lisitngs remain within a realtively short (competitive) range of prices, whereas the revies per month are distributed along a broader range."
   ]
  },
  {
   "cell_type": "code",
   "execution_count": 98,
   "id": "c346585c",
   "metadata": {},
   "outputs": [],
   "source": [
    "rmse = mean_squared_error(y_test, y_predicted)\n",
    "r2 = r2_score(y_test, y_predicted)"
   ]
  },
  {
   "cell_type": "code",
   "execution_count": 96,
   "id": "be25bff1",
   "metadata": {},
   "outputs": [
    {
     "name": "stdout",
     "output_type": "stream",
     "text": [
      "Slope: [[-5.72684024e-05]]\n",
      "Mean squared error:  3869.323271516632\n",
      "R2 score:  -0.0009692734725734731\n"
     ]
    }
   ],
   "source": [
    "print('Slope:', regression.coef_)\n",
    "print('Mean squared error: ', rmse)\n",
    "print('R2 score: ', r2)"
   ]
  },
  {
   "cell_type": "markdown",
   "id": "c653cf2e",
   "metadata": {},
   "source": [
    "#### The slope is negative because most of the prices are \"clustered\" in a small range, and there's a broad range of revies per month whereas despite the prices.\n",
    "\n",
    "#### The rmse in this case is demostrating that the values are highly dispersed\n",
    "\n",
    "#### The r2 score is negative wich can be interpretated as if it was \"0\"; this means the model has a poor fit."
   ]
  },
  {
   "cell_type": "code",
   "execution_count": 99,
   "id": "070b046c",
   "metadata": {},
   "outputs": [
    {
     "data": {
      "text/plain": [
       "array([[38.12742639],\n",
       "       [38.18165957],\n",
       "       [38.16161563],\n",
       "       ...,\n",
       "       [38.16344821],\n",
       "       [38.1652808 ],\n",
       "       [38.18967714]])"
      ]
     },
     "execution_count": 99,
     "metadata": {},
     "output_type": "execute_result"
    }
   ],
   "source": [
    "y_predicted"
   ]
  },
  {
   "cell_type": "code",
   "execution_count": 62,
   "id": "06bf3d3f",
   "metadata": {},
   "outputs": [
    {
     "data": {
      "text/html": [
       "<div>\n",
       "<style scoped>\n",
       "    .dataframe tbody tr th:only-of-type {\n",
       "        vertical-align: middle;\n",
       "    }\n",
       "\n",
       "    .dataframe tbody tr th {\n",
       "        vertical-align: top;\n",
       "    }\n",
       "\n",
       "    .dataframe thead th {\n",
       "        text-align: right;\n",
       "    }\n",
       "</style>\n",
       "<table border=\"1\" class=\"dataframe\">\n",
       "  <thead>\n",
       "    <tr style=\"text-align: right;\">\n",
       "      <th></th>\n",
       "      <th>Actual</th>\n",
       "      <th>Predicted</th>\n",
       "    </tr>\n",
       "  </thead>\n",
       "  <tbody>\n",
       "    <tr>\n",
       "      <th>0</th>\n",
       "      <td>53361285</td>\n",
       "      <td>1.406491e+08</td>\n",
       "    </tr>\n",
       "    <tr>\n",
       "      <th>1</th>\n",
       "      <td>183412199</td>\n",
       "      <td>1.584004e+08</td>\n",
       "    </tr>\n",
       "    <tr>\n",
       "      <th>2</th>\n",
       "      <td>432454965</td>\n",
       "      <td>1.584004e+08</td>\n",
       "    </tr>\n",
       "    <tr>\n",
       "      <th>3</th>\n",
       "      <td>161301984</td>\n",
       "      <td>1.588935e+08</td>\n",
       "    </tr>\n",
       "    <tr>\n",
       "      <th>4</th>\n",
       "      <td>220829600</td>\n",
       "      <td>1.588935e+08</td>\n",
       "    </tr>\n",
       "    <tr>\n",
       "      <th>5</th>\n",
       "      <td>461793397</td>\n",
       "      <td>1.586469e+08</td>\n",
       "    </tr>\n",
       "    <tr>\n",
       "      <th>6</th>\n",
       "      <td>154468717</td>\n",
       "      <td>1.586469e+08</td>\n",
       "    </tr>\n",
       "    <tr>\n",
       "      <th>7</th>\n",
       "      <td>359265212</td>\n",
       "      <td>1.588935e+08</td>\n",
       "    </tr>\n",
       "    <tr>\n",
       "      <th>8</th>\n",
       "      <td>27449159</td>\n",
       "      <td>1.532229e+08</td>\n",
       "    </tr>\n",
       "    <tr>\n",
       "      <th>9</th>\n",
       "      <td>158865104</td>\n",
       "      <td>1.588935e+08</td>\n",
       "    </tr>\n",
       "    <tr>\n",
       "      <th>10</th>\n",
       "      <td>187855337</td>\n",
       "      <td>1.586469e+08</td>\n",
       "    </tr>\n",
       "    <tr>\n",
       "      <th>11</th>\n",
       "      <td>8686853</td>\n",
       "      <td>1.588935e+08</td>\n",
       "    </tr>\n",
       "    <tr>\n",
       "      <th>12</th>\n",
       "      <td>276377520</td>\n",
       "      <td>1.305408e+08</td>\n",
       "    </tr>\n",
       "    <tr>\n",
       "      <th>13</th>\n",
       "      <td>2549232</td>\n",
       "      <td>1.586469e+08</td>\n",
       "    </tr>\n",
       "    <tr>\n",
       "      <th>14</th>\n",
       "      <td>48350493</td>\n",
       "      <td>1.588935e+08</td>\n",
       "    </tr>\n",
       "    <tr>\n",
       "      <th>15</th>\n",
       "      <td>46712650</td>\n",
       "      <td>1.586469e+08</td>\n",
       "    </tr>\n",
       "    <tr>\n",
       "      <th>16</th>\n",
       "      <td>295013106</td>\n",
       "      <td>1.579073e+08</td>\n",
       "    </tr>\n",
       "    <tr>\n",
       "      <th>17</th>\n",
       "      <td>53580549</td>\n",
       "      <td>1.584004e+08</td>\n",
       "    </tr>\n",
       "    <tr>\n",
       "      <th>18</th>\n",
       "      <td>261857354</td>\n",
       "      <td>1.376906e+08</td>\n",
       "    </tr>\n",
       "    <tr>\n",
       "      <th>19</th>\n",
       "      <td>111180491</td>\n",
       "      <td>1.586469e+08</td>\n",
       "    </tr>\n",
       "    <tr>\n",
       "      <th>20</th>\n",
       "      <td>87539949</td>\n",
       "      <td>1.556884e+08</td>\n",
       "    </tr>\n",
       "    <tr>\n",
       "      <th>21</th>\n",
       "      <td>109500943</td>\n",
       "      <td>1.581538e+08</td>\n",
       "    </tr>\n",
       "    <tr>\n",
       "      <th>22</th>\n",
       "      <td>359477850</td>\n",
       "      <td>1.588935e+08</td>\n",
       "    </tr>\n",
       "    <tr>\n",
       "      <th>23</th>\n",
       "      <td>293476024</td>\n",
       "      <td>1.576608e+08</td>\n",
       "    </tr>\n",
       "    <tr>\n",
       "      <th>24</th>\n",
       "      <td>284001170</td>\n",
       "      <td>1.559349e+08</td>\n",
       "    </tr>\n",
       "    <tr>\n",
       "      <th>25</th>\n",
       "      <td>4296667</td>\n",
       "      <td>1.517437e+08</td>\n",
       "    </tr>\n",
       "    <tr>\n",
       "      <th>26</th>\n",
       "      <td>37997495</td>\n",
       "      <td>1.588935e+08</td>\n",
       "    </tr>\n",
       "    <tr>\n",
       "      <th>27</th>\n",
       "      <td>307273933</td>\n",
       "      <td>1.588935e+08</td>\n",
       "    </tr>\n",
       "    <tr>\n",
       "      <th>28</th>\n",
       "      <td>248848642</td>\n",
       "      <td>1.586469e+08</td>\n",
       "    </tr>\n",
       "    <tr>\n",
       "      <th>29</th>\n",
       "      <td>110218260</td>\n",
       "      <td>1.579073e+08</td>\n",
       "    </tr>\n",
       "  </tbody>\n",
       "</table>\n",
       "</div>"
      ],
      "text/plain": [
       "       Actual     Predicted\n",
       "0    53361285  1.406491e+08\n",
       "1   183412199  1.584004e+08\n",
       "2   432454965  1.584004e+08\n",
       "3   161301984  1.588935e+08\n",
       "4   220829600  1.588935e+08\n",
       "5   461793397  1.586469e+08\n",
       "6   154468717  1.586469e+08\n",
       "7   359265212  1.588935e+08\n",
       "8    27449159  1.532229e+08\n",
       "9   158865104  1.588935e+08\n",
       "10  187855337  1.586469e+08\n",
       "11    8686853  1.588935e+08\n",
       "12  276377520  1.305408e+08\n",
       "13    2549232  1.586469e+08\n",
       "14   48350493  1.588935e+08\n",
       "15   46712650  1.586469e+08\n",
       "16  295013106  1.579073e+08\n",
       "17   53580549  1.584004e+08\n",
       "18  261857354  1.376906e+08\n",
       "19  111180491  1.586469e+08\n",
       "20   87539949  1.556884e+08\n",
       "21  109500943  1.581538e+08\n",
       "22  359477850  1.588935e+08\n",
       "23  293476024  1.576608e+08\n",
       "24  284001170  1.559349e+08\n",
       "25    4296667  1.517437e+08\n",
       "26   37997495  1.588935e+08\n",
       "27  307273933  1.588935e+08\n",
       "28  248848642  1.586469e+08\n",
       "29  110218260  1.579073e+08"
      ]
     },
     "execution_count": 62,
     "metadata": {},
     "output_type": "execute_result"
    }
   ],
   "source": [
    "# create dataframe comparing the actual and predicted values of y\n",
    "\n",
    "data = pd.DataFrame({'Actual': y_test.flatten(), 'Predicted': y_predicted.flatten()})\n",
    "data.head(30)"
   ]
  },
  {
   "cell_type": "markdown",
   "id": "03d698f5",
   "metadata": {},
   "source": [
    "#### After careful checks, the analysis does not consider the model is being affected by any bias. Instead, (most likely) the approach to extract insights from the customer base might need to change, meaning the direction of the analysis has to change as the model does not tell anything relevant.\n",
    "\n",
    "#### Another model meassuring the listings per host and the total number of hosts was performed, but since the variables have id instead of continuous or discrete values, the model was dropped."
   ]
  },
  {
   "cell_type": "code",
   "execution_count": null,
   "id": "c0c239c3",
   "metadata": {},
   "outputs": [],
   "source": []
  },
  {
   "cell_type": "code",
   "execution_count": null,
   "id": "8a155faa",
   "metadata": {},
   "outputs": [],
   "source": []
  }
 ],
 "metadata": {
  "kernelspec": {
   "display_name": "Python 3 (ipykernel)",
   "language": "python",
   "name": "python3"
  },
  "language_info": {
   "codemirror_mode": {
    "name": "ipython",
    "version": 3
   },
   "file_extension": ".py",
   "mimetype": "text/x-python",
   "name": "python",
   "nbconvert_exporter": "python",
   "pygments_lexer": "ipython3",
   "version": "3.9.12"
  }
 },
 "nbformat": 4,
 "nbformat_minor": 5
}
